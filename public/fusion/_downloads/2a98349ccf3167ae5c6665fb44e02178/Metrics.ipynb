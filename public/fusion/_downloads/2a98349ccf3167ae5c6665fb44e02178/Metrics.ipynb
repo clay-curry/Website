{
  "cells": [
    {
      "cell_type": "code",
      "execution_count": null,
      "metadata": {
        "collapsed": false
      },
      "outputs": [],
      "source": [
        "%matplotlib inline"
      ]
    },
    {
      "cell_type": "markdown",
      "metadata": {},
      "source": [
        "\n# Metrics Example\nThis example is going to look at metrics, and how they can be used to assess algorithm performance.\n"
      ]
    },
    {
      "cell_type": "markdown",
      "metadata": {},
      "source": [
        "## Building a Simple Simulation and Tracker\nFor simplicity, we are going to quickly build a basic Kalman Tracker, with simple SMART FUSION\nsimulators, including clutter. In this case a 2D constant velocity target, with 2D linear\nmeasurements of position.\n\n"
      ]
    },
    {
      "cell_type": "code",
      "execution_count": null,
      "metadata": {
        "collapsed": false
      },
      "outputs": [],
      "source": [
        "import datetime\n\nimport numpy as np\nimport matplotlib.pyplot as plt\n\nfrom smartfusion.dataassociator.neighbour import GNNWith2DAssignment\nfrom smartfusion.deleter.error import CovarianceBasedDeleter\nfrom smartfusion.hypothesiser.distance import DistanceHypothesiser\nfrom smartfusion.initiator.simple import MultiMeasurementInitiator\nfrom smartfusion.measures import Mahalanobis\nfrom smartfusion.models.transition.linear import (\n    CombinedLinearGaussianTransitionModel, ConstantVelocity)\nfrom smartfusion.models.measurement.linear import LinearGaussian\nfrom smartfusion.predictor.kalman import KalmanPredictor\nfrom smartfusion.simulator.simple import MultiTargetGroundTruthSimulator, SimpleDetectionSimulator\nfrom smartfusion.tracker.simple import MultiTargetTracker\nfrom smartfusion.types.array import StateVector, CovarianceMatrix\nfrom smartfusion.types.state import GaussianState\nfrom smartfusion.updater.kalman import KalmanUpdater\n\n# Models\ntransition_model = CombinedLinearGaussianTransitionModel(\n    [ConstantVelocity(1), ConstantVelocity(1)], seed=1)\n\nmeasurement_model = LinearGaussian(4, [0, 2], np.diag([0.5, 0.5]), seed=2)\n\n# Simulators\ngroundtruth_sim = MultiTargetGroundTruthSimulator(\n    transition_model=transition_model,\n    initial_state=GaussianState(\n        StateVector([[0], [0], [0], [0]]),\n        CovarianceMatrix(np.diag([1000, 10, 1000, 10]))),\n    timestep=datetime.timedelta(seconds=5),\n    number_steps=100,\n    birth_rate=0.2,\n    death_probability=0.05,\n    seed=3\n)\ndetection_sim = SimpleDetectionSimulator(\n    groundtruth=groundtruth_sim,\n    measurement_model=measurement_model,\n    meas_range=np.array([[-1, 1], [-1, 1]]) * 5000,  # Area to generate clutter\n    detection_probability=0.9,\n    clutter_rate=1,\n    seed=4\n)\n\n# Filter\npredictor = KalmanPredictor(transition_model)\nupdater = KalmanUpdater(measurement_model)\n\n# Data Associator\nhypothesiser = DistanceHypothesiser(predictor, updater, Mahalanobis(), missed_distance=3)\ndata_associator = GNNWith2DAssignment(hypothesiser)\n\n# Initiator & Deleter\ndeleter = CovarianceBasedDeleter(covar_trace_thresh=1E3)\ninitiator = MultiMeasurementInitiator(\n    GaussianState(np.array([[0], [0], [0], [0]]), np.diag([0, 100, 0, 1000])),\n    measurement_model=measurement_model,\n    deleter=deleter,\n    data_associator=data_associator,\n    updater=updater,\n    min_points=3,\n)\n\n# Tracker\ntracker = MultiTargetTracker(\n    initiator=initiator,\n    deleter=deleter,\n    detector=detection_sim,\n    data_associator=data_associator,\n    updater=updater,\n)"
      ]
    },
    {
      "cell_type": "markdown",
      "metadata": {},
      "source": [
        "## Create Metric Generators\nHere we are going to create a variety of metrics. First up is some \"Basic Metrics\", that simply\ncomputes the number of tracks, number to targets and the ratio of tracks to targets. Basic but\nuseful information, that requires no additional properties.\n\n"
      ]
    },
    {
      "cell_type": "code",
      "execution_count": null,
      "metadata": {
        "collapsed": false
      },
      "outputs": [],
      "source": [
        "from smartfusion.metricgenerator.basicmetrics import BasicMetrics\n\nbasic_generator = BasicMetrics()"
      ]
    },
    {
      "cell_type": "markdown",
      "metadata": {},
      "source": [
        "Next we'll create the Optimal SubPattern Assignment (OSPA) metric generator. This metric is\ncalculated at each time step, giving an overall multi-track to multi-groundtruth missed distance.\nThis has two properties: $p \\in [1,\\infty]$ for outlier sensitivity and $c > 1$ for\ncardinality penalty. [#]_\n\n"
      ]
    },
    {
      "cell_type": "code",
      "execution_count": null,
      "metadata": {
        "collapsed": false
      },
      "outputs": [],
      "source": [
        "from smartfusion.metricgenerator.ospametric import OSPAMetric\nfrom smartfusion.measures import Euclidean\n\nospa_generator = OSPAMetric(c=10, p=1, measure=Euclidean([0, 2]))"
      ]
    },
    {
      "cell_type": "markdown",
      "metadata": {},
      "source": [
        "And finally we create some Single Integrated Air Picture (SIAP) metrics. Despite it's name, this\nis applicable to tracking in general and not just in relation to an air picture. This is made up\nof multiple individual metrics. [#]_\n\n"
      ]
    },
    {
      "cell_type": "code",
      "execution_count": null,
      "metadata": {
        "collapsed": false
      },
      "outputs": [],
      "source": [
        "from smartfusion.metricgenerator.tracktotruthmetrics import SIAPMetrics\n\nsiap_generator = SIAPMetrics(position_measure=Euclidean((0, 2)),\n                             velocity_measure=Euclidean((1, 3)))"
      ]
    },
    {
      "cell_type": "markdown",
      "metadata": {},
      "source": [
        "The SIAP Metrics requires a way to associate tracks to truth, so we'll use a Track to Truth\nassociator, which uses Euclidean distance measure by default.\n\n"
      ]
    },
    {
      "cell_type": "code",
      "execution_count": null,
      "metadata": {
        "collapsed": false
      },
      "outputs": [],
      "source": [
        "from smartfusion.dataassociator.tracktotrack import TrackToTruth\n\nassociator = TrackToTruth(association_threshold=30)"
      ]
    },
    {
      "cell_type": "markdown",
      "metadata": {},
      "source": [
        "As a final example of a metric, we'll create a plotting metric, which is a visual way to view the\noutput of our tracker.\n\n"
      ]
    },
    {
      "cell_type": "code",
      "execution_count": null,
      "metadata": {
        "collapsed": false
      },
      "outputs": [],
      "source": [
        "from smartfusion.metricgenerator.plotter import TwoDPlotter\n\nplot_generator = TwoDPlotter([0, 2], [0, 2], [0, 2])"
      ]
    },
    {
      "cell_type": "markdown",
      "metadata": {},
      "source": [
        "Once we've created a set of metrics, these are added to a Metric Manager, along with the\nassociator. The associator can be used by multiple metric generators, only being run once as this\ncan be a computationally expensive process; in this case, only SIAP Metrics requires it.\n\n"
      ]
    },
    {
      "cell_type": "code",
      "execution_count": null,
      "metadata": {
        "collapsed": false
      },
      "outputs": [],
      "source": [
        "from smartfusion.metricgenerator.manager import SimpleManager\n\nmetric_manager = SimpleManager([basic_generator, ospa_generator, siap_generator, plot_generator],\n                               associator=associator)"
      ]
    },
    {
      "cell_type": "markdown",
      "metadata": {},
      "source": [
        "## Tracking and Generating Metrics\nWith this basic tracker built and metrics ready, we'll now run the tracker, adding the sets of\n:class:`~.GroundTruthPath`, :class:`~.Detection` and :class:`~.Track` objects: to the metric\nmanager.\n\n"
      ]
    },
    {
      "cell_type": "code",
      "execution_count": null,
      "metadata": {
        "collapsed": false
      },
      "outputs": [],
      "source": [
        "for time, tracks in tracker:\n    metric_manager.add_data(\n        groundtruth_sim.groundtruth_paths, tracks, detection_sim.detections,\n        overwrite=False,  # Don't overwrite, instead add above as additional data\n    )"
      ]
    },
    {
      "cell_type": "markdown",
      "metadata": {},
      "source": [
        "With the tracker run and data in the metric manager, we'll now run the generate metrics method.\nThis will also generate the plot, which will be rendered automatically below, which will give a\nvisual overview\n\n"
      ]
    },
    {
      "cell_type": "code",
      "execution_count": null,
      "metadata": {
        "collapsed": false
      },
      "outputs": [],
      "source": [
        "plt.rcParams[\"figure.figsize\"] = (10, 8)\nmetrics = metric_manager.generate_metrics()"
      ]
    },
    {
      "cell_type": "markdown",
      "metadata": {},
      "source": [
        "So first we'll loop through the metrics and print out the basic metrics, which simply gives\ndetails on number of tracks versus targets.\n\n"
      ]
    },
    {
      "cell_type": "code",
      "execution_count": null,
      "metadata": {
        "collapsed": false
      },
      "outputs": [],
      "source": [
        "for metric in metrics:\n    if not any(s in metric for s in ('SIAP', 'OSPA', 'plot')):\n        print(f\"{metric} : {metrics.get(metric).value}\")"
      ]
    },
    {
      "cell_type": "markdown",
      "metadata": {},
      "source": [
        "Next we'll take a look at the OSPA metric, plotting it to show how it varies over time. In this\nexample, targets are created and remove randomly, so expect this to be fairly variable.\n\n"
      ]
    },
    {
      "cell_type": "code",
      "execution_count": null,
      "metadata": {
        "collapsed": false
      },
      "outputs": [],
      "source": [
        "ospa_metric = metrics['OSPA distances']\n\nfig = plt.figure()\nax = fig.add_subplot(1, 1, 1)\nax.plot([i.timestamp for i in ospa_metric.value], [i.value for i in ospa_metric.value])\nax.set_ylabel(\"OSPA distance\")\nax.tick_params(labelbottom=False)\n_ = ax.set_xlabel(\"Time\")"
      ]
    },
    {
      "cell_type": "markdown",
      "metadata": {},
      "source": [
        "And finally, we'll look at the SIAP metrics, but to make these easier to visualise and understand\nwe'll use a special SIAP table generator. This will colour code the results for quick visual\nindication, as well as provide a description for each metric.\n\n"
      ]
    },
    {
      "cell_type": "code",
      "execution_count": null,
      "metadata": {
        "collapsed": false
      },
      "outputs": [],
      "source": [
        "from smartfusion.metricgenerator.metrictables import SIAPTableGenerator\n\nsiap_averages = {metrics.get(metric) for metric in metrics\n                 if metric.startswith(\"SIAP\") and not metric.endswith(\" at times\")}\nsiap_time_based = {metrics.get(metric) for metric in metrics if metric.endswith(' at times')}\n\n_ = SIAPTableGenerator(siap_averages).compute_metric()"
      ]
    },
    {
      "cell_type": "markdown",
      "metadata": {},
      "source": [
        "Plotting appropriate SIAP values at each timestamp gives:\n\n"
      ]
    },
    {
      "cell_type": "code",
      "execution_count": null,
      "metadata": {
        "collapsed": false
      },
      "outputs": [],
      "source": [
        "fig2, axes = plt.subplots(5)\n\nfig2.subplots_adjust(hspace=1)\n\nt_siaps = siap_time_based\n\ntimes = metric_manager.list_timestamps()\n\nfor siap, axis in zip(t_siaps, axes):\n    siap_type = siap.title[:-13]  # remove the ' at timestamp' part\n    axis.set(title=siap.title, xlabel='Time', ylabel=siap_type)\n    axis.tick_params(length=1)\n    axis.plot(times, [t_siap.value for t_siap in siap.value])"
      ]
    },
    {
      "cell_type": "markdown",
      "metadata": {},
      "source": [
        ".. rubric:: Footnotes\n\n.. [#] *D. Schuhmacher, B. Vo and B. Vo*, **A Consistent Metric for Performance Evaluation of\n   Multi-Object Filters**, IEEE Trans. Signal Processing 2008\n.. [#] *Votruba, Paul & Nisley, Rich & Rothrock, Ron and Zombro, Brett.*, **Single Integrated Air\n   Picture (SIAP) Metrics Implementation**, 2001\n\n"
      ]
    }
  ],
  "metadata": {
    "kernelspec": {
      "display_name": "Python 3",
      "language": "python",
      "name": "python3"
    },
    "language_info": {
      "codemirror_mode": {
        "name": "ipython",
        "version": 3
      },
      "file_extension": ".py",
      "mimetype": "text/x-python",
      "name": "python",
      "nbconvert_exporter": "python",
      "pygments_lexer": "ipython3",
      "version": "3.9.12"
    }
  },
  "nbformat": 4,
  "nbformat_minor": 0
}