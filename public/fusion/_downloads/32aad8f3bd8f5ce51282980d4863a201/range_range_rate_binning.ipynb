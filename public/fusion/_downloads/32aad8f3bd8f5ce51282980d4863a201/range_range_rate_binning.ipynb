{
  "cells": [
    {
      "cell_type": "code",
      "execution_count": null,
      "metadata": {
        "collapsed": false
      },
      "outputs": [],
      "source": [
        "%matplotlib inline"
      ]
    },
    {
      "cell_type": "markdown",
      "metadata": {},
      "source": [
        "\n# RangeRangeRateBinning measurement model example\n:class:`~.RangeRangeRateBinning` is a Cartesian to spherical measurement model. It takes a 6D\nstate of position and velocity in 3D Cartesian space and produces a 4D state of elevation\n($\\theta$),  bearing ($\\phi$), range ($r$) and range-rate ($\\dot{r}$),\n\n\\begin{align}\\vec{y}_t = \\begin{bmatrix}\n                \\theta \\\\\n                \\phi \\\\\n                r \\\\\n                \\dot{r}\n            \\end{bmatrix}\\end{align}\n\nThis example demonstrates the RangeRangeRateBinning measurement model, showing the effect of\nbinning\n"
      ]
    },
    {
      "cell_type": "code",
      "execution_count": null,
      "metadata": {
        "collapsed": false
      },
      "outputs": [],
      "source": [
        "import numpy as np\nfrom matplotlib import pyplot as plt\nimport datetime\n\n\n# show and plot_states will help plot the results of RangeRangeRateBinning\n\ndef show(title='', x_label='', y_label=''):\n    plt.minorticks_on()\n    plt.grid(which='minor', alpha=0.2)\n    plt.grid(which='major')\n    plt.title(title, fontsize=15)\n    plt.xlabel(x_label, fontsize=15)\n    plt.ylabel(y_label, fontsize=15)\n    plt.show()\n\n\ndef plot_states(state_vectors, mapping, plot=plt.plot, line='+-'):\n    array = np.zeros([len(state_vectors), len(mapping)])\n    for state_vector, index in zip(state_vectors, range(0, len(state_vectors))):\n        for j in range(0, len(mapping)):\n            array[index, j] = state_vector[mapping[j]]\n    plot(array[:, 0], array[:, 1], line)"
      ]
    },
    {
      "cell_type": "markdown",
      "metadata": {},
      "source": [
        "## Measurement model\nA measurement model is made with covariance of zero so\nthat the effects of binning are more obvious.\n\n"
      ]
    },
    {
      "cell_type": "code",
      "execution_count": null,
      "metadata": {
        "collapsed": false
      },
      "outputs": [],
      "source": [
        "from smartfusion.models.measurement.nonlinear import RangeRangeRateBinning\nmeasurement_model = RangeRangeRateBinning(\n    range_res=3,\n    range_rate_res=1,\n    ndim_state=6,\n    mapping=[0, 2, 4],\n    velocity_mapping=[1, 3, 5],\n    noise_covar=np.array([0., 0., 0., 0.]))"
      ]
    },
    {
      "cell_type": "markdown",
      "metadata": {},
      "source": [
        "## Create target\nThen a target is created for the model to measure\n\n"
      ]
    },
    {
      "cell_type": "code",
      "execution_count": null,
      "metadata": {
        "collapsed": false
      },
      "outputs": [],
      "source": [
        "from smartfusion.models.transition.linear import (CombinedLinearGaussianTransitionModel,\n                                                ConstantVelocity)\nfrom smartfusion.platform.base import MovingPlatform\nfrom smartfusion.types.state import State\n\ntime_step = datetime.timedelta(seconds=0.1)\ntime_init = datetime.datetime.now()\n\ntransition_model = CombinedLinearGaussianTransitionModel(\n    [ConstantVelocity(1.),\n     ConstantVelocity(1.),\n     ConstantVelocity(1.)])\n\nred = MovingPlatform(\n    position_mapping=[0, 2, 4],\n    velocity_mapping=[0, 2, 4],\n    states=State([50., 0., -50., 10., 0., 0.], timestamp=time_init),\n    transition_model=transition_model)"
      ]
    },
    {
      "cell_type": "markdown",
      "metadata": {},
      "source": [
        "Move target\n\n"
      ]
    },
    {
      "cell_type": "code",
      "execution_count": null,
      "metadata": {
        "collapsed": false
      },
      "outputs": [],
      "source": [
        "for s in range(1, 100):\n    red.move(time_init+s*time_step)"
      ]
    },
    {
      "cell_type": "markdown",
      "metadata": {},
      "source": [
        "### Measure target states\nThe states are measured with and without noise to show the real position with the measured one.\n\n"
      ]
    },
    {
      "cell_type": "code",
      "execution_count": null,
      "metadata": {
        "collapsed": false
      },
      "outputs": [],
      "source": [
        "measurements = []\nnoiseless_measurements = []\nfor state in red.states:\n    measurements.append(measurement_model.function(state, noise=True))\n    noiseless_measurements.append(measurement_model.function(state, noise=False))"
      ]
    },
    {
      "cell_type": "markdown",
      "metadata": {},
      "source": [
        "### Plot results\n\n"
      ]
    },
    {
      "cell_type": "code",
      "execution_count": null,
      "metadata": {
        "collapsed": false
      },
      "outputs": [],
      "source": [
        "fig = plt.figure(figsize=[10, 10])\nax = fig.add_subplot(111, polar=True)\nax.set_thetamin(-60)\nax.set_thetamax(60)\nax.set_theta_zero_location('W', offset=-90)\nplot_states(noiseless_measurements, [1, 2], plt.polar, 'r')\nplot_states(measurements, [1, 2], plt.polar)\nplt.legend([\"real\", \"measured\"])\nplt.minorticks_on()\nplt.title('Positions')\nplt.grid(which='minor', alpha=0.2)\nplt.show()"
      ]
    },
    {
      "cell_type": "markdown",
      "metadata": {},
      "source": [
        "This graph shows the radial position is discrete.\nNext the velocity is plotted, showing the same binning but affecting the range rate\n\n"
      ]
    },
    {
      "cell_type": "code",
      "execution_count": null,
      "metadata": {
        "collapsed": false
      },
      "outputs": [],
      "source": [
        "velocities = []\nnoiseless_velocities = []\nfor state_vector, noiseless in zip(measurements, noiseless_measurements):\n    velocities.append(state_vector[3])\n    noiseless_velocities.append(noiseless[3])\n\nplt.figure(figsize=[10, 5])\nplt.plot(np.arange(0, 100)*0.1, noiseless_velocities, 'r')\nplt.plot(np.arange(0, 100)*0.1, velocities, '+-')\nplt.legend([\"real\", \"measured\"])\nshow(x_label='time (s)', y_label='range rate (m/s)')"
      ]
    }
  ],
  "metadata": {
    "kernelspec": {
      "display_name": "Python 3",
      "language": "python",
      "name": "python3"
    },
    "language_info": {
      "codemirror_mode": {
        "name": "ipython",
        "version": 3
      },
      "file_extension": ".py",
      "mimetype": "text/x-python",
      "name": "python",
      "nbconvert_exporter": "python",
      "pygments_lexer": "ipython3",
      "version": "3.9.12"
    }
  },
  "nbformat": 4,
  "nbformat_minor": 0
}