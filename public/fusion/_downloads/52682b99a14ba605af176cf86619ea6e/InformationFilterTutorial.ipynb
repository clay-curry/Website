{
  "cells": [
    {
      "cell_type": "code",
      "execution_count": null,
      "metadata": {
        "collapsed": false
      },
      "outputs": [],
      "source": [
        "%matplotlib inline"
      ]
    },
    {
      "cell_type": "markdown",
      "metadata": {},
      "source": [
        "\n# Information filter tutorial\n"
      ]
    },
    {
      "cell_type": "markdown",
      "metadata": {},
      "source": [
        "This notebook is designed to introduce the Information Filter using a single target scenario as an example.\n\n## Background and notation:\n\nThe information filter can be used when there is large, or infinite uncertainty about the initial\nstate of an object. To compute the predicting and updating steps, the infinite covariance is\nconverted to its inverse, using both the Precision matrix and the Information state.\n\nWe begin by creating a constant velocity model with q = 0.05.\nA \u2018truth path\u2019 is created starting at (20,20) moving to the NE at one distance unit per (time) step\nin each dimension. We propagate this with the transition model to generate a ground truth path.\n\nFirstly, we run the general imports, create the start time and build the Ground Truth constant velocity model.\nThis follows the same procedure as shown in Tutorial 1 - Kalman Filter.\n\n\n\n"
      ]
    },
    {
      "cell_type": "code",
      "execution_count": null,
      "metadata": {
        "collapsed": false
      },
      "outputs": [],
      "source": [
        "import numpy as np\n\nfrom datetime import datetime, timedelta\nstart_time = datetime.now()\n\nnp.random.seed(1991)\n\n\n# setting up ground truth\n\nfrom smartfusion.types.groundtruth import GroundTruthPath, GroundTruthState\nfrom smartfusion.models.transition.linear import (CombinedLinearGaussianTransitionModel,\n                                               ConstantVelocity)\n\ntransition_model = CombinedLinearGaussianTransitionModel([ConstantVelocity(0.05),ConstantVelocity(0.05)])\n\n# Creating the initial truth state.\n\ntruth = GroundTruthPath([GroundTruthState([20,1,20,1],timestamp=start_time)])\n\n# Generating the Ground truth path using a transition model.\n\nfor k in range(1,21):\n    truth.append(GroundTruthState(\n    transition_model.function(truth[k-1],noise=True,time_interval=timedelta(seconds=1)),\n    timestamp=start_time + timedelta(seconds=k)))"
      ]
    },
    {
      "cell_type": "markdown",
      "metadata": {},
      "source": [
        "Importing the :class:`~.Plotterly` class from SMART FUSION, we can plot the results.\nNote that the mapping argument is [0, 2] because those are the $x$ and $y$ position\nindices from our state vector.\n\n"
      ]
    },
    {
      "cell_type": "markdown",
      "metadata": {},
      "source": [
        "### Plotting Ground Truths:\n\n"
      ]
    },
    {
      "cell_type": "code",
      "execution_count": null,
      "metadata": {
        "collapsed": false
      },
      "outputs": [],
      "source": [
        "from smartfusion.plotter import Plotterly\nplotter = Plotterly()\nplotter.plot_ground_truths(truth,[0,2])\nplotter.fig"
      ]
    },
    {
      "cell_type": "markdown",
      "metadata": {},
      "source": [
        "### Taking Measurements:\n\nAs per the original Kalman tutorial, we\u2019ll use one of SMART FUSION\u2019s measurement models in order to\ngenerate measurements from the ground truth. We shall assume a \u2018linear\u2019 sensor which detects the\nposition only (not the velocity) of a target.\n\nOmega is set to 5.\n\nThe linear Gaussian measurement model is set up by indicating the number of dimensions in the state\nvector and the dimensions that are measured (specifying ${H}_{k}$) and the noise covariance matrix $R$.\n\n\n"
      ]
    },
    {
      "cell_type": "code",
      "execution_count": null,
      "metadata": {
        "collapsed": false
      },
      "outputs": [],
      "source": [
        "from smartfusion.types.detection import Detection\nfrom smartfusion.models.measurement.linear import LinearGaussian\n\nmeasurement_model = LinearGaussian(ndim_state = 4, # Number of state dimensions (position and velocity in 2D)\n                                   mapping=(0,2), # Mapping measurement vector index to state index\n                                   noise_covar=np.array([[5,0], # Covariance matrix for Gaussian PDF\n                                                        [0,5]])\n                                  )\n\n\nmeasurements = []\n\nfor state in truth:\n    measurement = measurement_model.function(state,noise=True)\n    measurements.append(Detection(measurement,timestamp=state.timestamp,measurement_model = measurement_model))"
      ]
    },
    {
      "cell_type": "markdown",
      "metadata": {},
      "source": [
        "We plot the measurements using the Plotterly class in SMART FUSION. Again specifying the $x$, $y$ position\nindicies from the state vector.\n\n"
      ]
    },
    {
      "cell_type": "code",
      "execution_count": null,
      "metadata": {
        "collapsed": false
      },
      "outputs": [],
      "source": [
        "plotter.plot_measurements(measurements,[0,2])\nplotter.fig"
      ]
    },
    {
      "cell_type": "markdown",
      "metadata": {},
      "source": [
        "### Running the Information Filter:\n\nWe must first import the :class:`~.InformationKalmanPredictor`, and :class:`~.InformationKalmanUpdater` from the\ncorresponding libraries.\n\nAs before, the Predictor must be passed a Transition model, and the updater a Measurement model.\n\nIt is important to note that, unlike the Kalman Filter in Tutorial 1, the Information Filter requires\nthe prior estimate to be in the form of an :class:`~.InformationState` (not a :class:`~.GaussianState`).\nThe InformationState can be imported from smartfusion.types.state, and takes arguments: Information\nstate, Precision Matrix and a timestamp.\n\nThe Precision Matrix is defined as : ${Y}_{k-1}$ = $[{P}_{k-1}]^{-1}$.\nThat is, the inverse of the covariance matrix.\nThe information state is defined as : ${y}_{k-1}$ = $[{P}_{k-1}]^{-1}$ ${x}_{k-1}$.\nThat is the matrix multiplication of the Precision Matrix and the prior state in ${x}_{k-1}$.\n\nUsing the same prior state as the original Kalman filtering example, we must firstly convert the\ncovariance to be the Precision matrix, ${Y}_{k-1}$, and calculate\nthe :class:`~.InformationState`, ${y}_{k-1}$.\n\n\n"
      ]
    },
    {
      "cell_type": "code",
      "execution_count": null,
      "metadata": {
        "collapsed": false
      },
      "outputs": [],
      "source": [
        "from smartfusion.predictor.information import InformationKalmanPredictor\nfrom smartfusion.updater.information import InformationKalmanUpdater\n\n\n# Creating Information predictor and updater objects\npredictor = InformationKalmanPredictor(transition_model)\nupdater = InformationKalmanUpdater(measurement_model)"
      ]
    },
    {
      "cell_type": "markdown",
      "metadata": {},
      "source": [
        "As before, we use the :class:`~.SingleHypothesis` class. The explicitly associates a single\npredicted state to a single detection.\n\n"
      ]
    },
    {
      "cell_type": "code",
      "execution_count": null,
      "metadata": {
        "collapsed": false
      },
      "outputs": [],
      "source": [
        "from smartfusion.types.state import InformationState\n\n# Precision matrix - the inverse of the covariance matrix\ncovar = np.diag([1.5, 0.5, 1.5, 0.5])\nprecision_matrix = np.linalg.inv(covar)\n\n\n# yk_1 = Pk_1^-1 @ x_k-1\nstate = [20,1,20,1]\ninformation_state = precision_matrix @ state\n\n\n# Must use information state with precision matrix instead of Gaussian state\nprior = InformationState(information_state, precision_matrix, timestamp=start_time)\n\nfrom smartfusion.types.hypothesis import SingleHypothesis\nfrom smartfusion.types.track import Track\n\ntrack = Track()\n\nfor measurement in measurements:\n    prediction = predictor.predict(prior,timestamp=measurement.timestamp)\n    hypothesis = SingleHypothesis(prediction, measurement)\n    post = updater.update(hypothesis)\n    track.append(post)\n    prior = track[-1]"
      ]
    },
    {
      "cell_type": "markdown",
      "metadata": {},
      "source": [
        "### Plotting:\nPlotting the resulting track, including uncertainty ellipses.\n\n"
      ]
    },
    {
      "cell_type": "code",
      "execution_count": null,
      "metadata": {
        "collapsed": false
      },
      "outputs": [],
      "source": [
        "plotter.plot_tracks(track,[0,2],uncertainty=True)\nplotter.fig"
      ]
    },
    {
      "cell_type": "markdown",
      "metadata": {},
      "source": [
        "### Comparison to Kalman Filter:\nWe can show that the track created by the information filter and that of the Kalman filter are equivalent.\nBelow we re-run the predicting and updating process with the :class:`~.KalmanPredictor` and :class:`~.KalmanUpdater`\n\n"
      ]
    },
    {
      "cell_type": "code",
      "execution_count": null,
      "metadata": {
        "collapsed": false
      },
      "outputs": [],
      "source": [
        "from smartfusion.types.state import GaussianState\nfrom smartfusion.predictor.kalman import KalmanPredictor\nfrom smartfusion.updater.kalman import KalmanUpdater\n\n# Prior estimate:\nprior = GaussianState([[20], [1], [20], [1]], np.diag([1.5, 0.5, 1.5, 0.5]), timestamp=start_time)\n\n# Creating kalman predictor and updater\npredictor = KalmanPredictor(transition_model)\nupdater = KalmanUpdater(measurement_model)\n\n# Creating the kalman track\nKalman_track = Track()\n\nfor measurement in measurements:\n    prediction = predictor.predict(prior,timestamp=measurement.timestamp)\n    hypothesis = SingleHypothesis(prediction, measurement)\n    post = updater.update(hypothesis)\n    Kalman_track.append(post)\n    prior = Kalman_track[-1]"
      ]
    },
    {
      "cell_type": "markdown",
      "metadata": {},
      "source": [
        "### Comparison of Kalman Information Filter Tracks:\n\nWe can use the Gaussian Hellinger measure to return the Hellinger distance between a\npair of :class:`~.GaussianState` multivariate objects. The distance is bounded between 0-1, and we can therefore show\nthat the total distance between the two tracks is close to zero.\n\n\n\n"
      ]
    },
    {
      "cell_type": "code",
      "execution_count": null,
      "metadata": {
        "collapsed": false
      },
      "outputs": [],
      "source": [
        "from smartfusion.measures import GaussianHellinger\n\ngh_measure = GaussianHellinger()\n\ntotal_distance = 0\n\nfor information_state, kalman_state in zip(track, Kalman_track):\n    distance = gh_measure(information_state.gaussian_state, kalman_state)\n\n    total_distance += distance\n\n\nprint(total_distance)"
      ]
    },
    {
      "cell_type": "markdown",
      "metadata": {},
      "source": [
        "### State Vector Comparison:\n\nThe state vector of the first position as an :class:`~.InformationState`.\n\n"
      ]
    },
    {
      "cell_type": "code",
      "execution_count": null,
      "metadata": {
        "collapsed": false
      },
      "outputs": [],
      "source": [
        "print(track[0].state_vector)"
      ]
    },
    {
      "cell_type": "markdown",
      "metadata": {},
      "source": [
        "The state vector of the first position as a :class:`~.GaussianState`. We use the .gaussian_state property to\nconvert to Gaussian form.\n\nWe can obtain the covariance by taking the inverse of the Precision Matrix.\nWe can also calculate the Gaussian state mean by multiplying by the covariance. In order to derive\n${x}_{k-1}$, we multiply by the covariance matrix.\n\n${x}_{k-1}$ = $[{P}_{k-1}]$ ${y}_{k-1}$.\n\n\n"
      ]
    },
    {
      "cell_type": "code",
      "execution_count": null,
      "metadata": {
        "collapsed": false
      },
      "outputs": [],
      "source": [
        "print(track[0].gaussian_state.state_vector)"
      ]
    }
  ],
  "metadata": {
    "kernelspec": {
      "display_name": "Python 3",
      "language": "python",
      "name": "python3"
    },
    "language_info": {
      "codemirror_mode": {
        "name": "ipython",
        "version": 3
      },
      "file_extension": ".py",
      "mimetype": "text/x-python",
      "name": "python",
      "nbconvert_exporter": "python",
      "pygments_lexer": "ipython3",
      "version": "3.9.12"
    }
  },
  "nbformat": 4,
  "nbformat_minor": 0
}