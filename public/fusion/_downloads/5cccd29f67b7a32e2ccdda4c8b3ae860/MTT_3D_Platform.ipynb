{
  "cells": [
    {
      "cell_type": "code",
      "execution_count": null,
      "metadata": {
        "collapsed": false
      },
      "outputs": [],
      "source": [
        "%matplotlib inline"
      ]
    },
    {
      "cell_type": "markdown",
      "metadata": {},
      "source": [
        "\n# Multi-Target Tracking in 3D Using Platform Simulation\nIn the SMART FUSION library, simulations can be set up and run using special\n:class:`~.FixedPlatform` and :class:`~.Sensor` objects. Simulated data can be preferable to\nreal data as the user has more control over the tracking scenario and real\ndata can be difficult or costly to acquire.\n"
      ]
    },
    {
      "cell_type": "markdown",
      "metadata": {},
      "source": [
        "## Creating the Sensor\nWe will begin by importing many relevant packages for the simulation.\n\n"
      ]
    },
    {
      "cell_type": "code",
      "execution_count": null,
      "metadata": {
        "collapsed": false
      },
      "outputs": [],
      "source": [
        "from datetime import datetime\nfrom datetime import timedelta\nimport numpy as np\nimport random\n\n\n# SMART FUSION imports:\nfrom smartfusion.types.state import State, GaussianState\nfrom smartfusion.types.array import StateVector, CovarianceMatrix\nfrom smartfusion.models.transition.linear import (\n    CombinedLinearGaussianTransitionModel, ConstantVelocity)\nfrom smartfusion.models.measurement.nonlinear import \\\n    CartesianToElevationBearingRange\nfrom smartfusion.deleter.time import UpdateTimeStepsDeleter\nfrom smartfusion.tracker.simple import MultiTargetMixtureTracker\nfrom matplotlib import pyplot as plt"
      ]
    },
    {
      "cell_type": "markdown",
      "metadata": {},
      "source": [
        "We set the start time to be the moment when we begin the simulation; for\nsimulations, the actual time doesn't matter, only the time delta between the\nstart and the point in question. We also set a random seed to ensure a\nstandard outcome. At the end, you can try changing this value to see how the\nstochastic nature of the simulation and tracker can produce very different\ntracking scenarios with the same parameters.\n\n"
      ]
    },
    {
      "cell_type": "code",
      "execution_count": null,
      "metadata": {
        "collapsed": false
      },
      "outputs": [],
      "source": [
        "start_time = datetime.now()\nnp.random.seed(783)\nrandom.seed(783)"
      ]
    },
    {
      "cell_type": "markdown",
      "metadata": {},
      "source": [
        "## Create the Stationary Platform\nNext, we will create a platform that will hold our radar sensor. In this\ncase, the platform is stationary and located at the point (0, 0, 0), though\nin general it need not be.\n\nDefine the initial platform position, in this case the origin\n\n"
      ]
    },
    {
      "cell_type": "code",
      "execution_count": null,
      "metadata": {
        "collapsed": false
      },
      "outputs": [],
      "source": [
        "platform_state_vector = StateVector([[0], [0], [0]])\nposition_mapping = (0, 1, 2)"
      ]
    },
    {
      "cell_type": "markdown",
      "metadata": {},
      "source": [
        "Create the initial state (position, time). Notice that the time is set to\nthe simulation start time defined earlier\n\n"
      ]
    },
    {
      "cell_type": "code",
      "execution_count": null,
      "metadata": {
        "collapsed": false
      },
      "outputs": [],
      "source": [
        "platform_state = State(platform_state_vector, start_time)"
      ]
    },
    {
      "cell_type": "markdown",
      "metadata": {},
      "source": [
        "Create our fixed platform\n\n"
      ]
    },
    {
      "cell_type": "code",
      "execution_count": null,
      "metadata": {
        "collapsed": false
      },
      "outputs": [],
      "source": [
        "from smartfusion.platform.base import FixedPlatform\nplatform = FixedPlatform(\n    states=platform_state,\n    position_mapping=position_mapping\n)"
      ]
    },
    {
      "cell_type": "markdown",
      "metadata": {},
      "source": [
        "## Create a Sensor\nNow that our sensor platform has been created, we can create a sensor to\nattach to it. In this case, we will be using a radar that takes measurements\nof range, bearing, and elevation of the targets.\n\n"
      ]
    },
    {
      "cell_type": "code",
      "execution_count": null,
      "metadata": {
        "collapsed": false
      },
      "outputs": [],
      "source": [
        "from smartfusion.sensor.radar.radar import RadarElevationBearingRange\nfrom smartfusion.models.clutter import ClutterModel"
      ]
    },
    {
      "cell_type": "markdown",
      "metadata": {},
      "source": [
        "First we create a covariance matrix which is a suitable measurement accuracy\nfor the radar sensor. This radar measures range with an accuracy of +/- 25m,\nelevation accuracy +/- 0.15, degrees and bearing accuracy of +/- 0.15\ndegrees.\n\n"
      ]
    },
    {
      "cell_type": "code",
      "execution_count": null,
      "metadata": {
        "collapsed": false
      },
      "outputs": [],
      "source": [
        "noise_covar = CovarianceMatrix(np.array(np.diag([np.deg2rad(0.15)**2,\n                                                 np.deg2rad(0.15)**2,\n                                                 25**2])))"
      ]
    },
    {
      "cell_type": "markdown",
      "metadata": {},
      "source": [
        "The radar needs to be informed of where x, y, and z are in the target state\nspace. In SMART FUSION the states are often of the form [x, vx, y, vy, z, vz].\n\n"
      ]
    },
    {
      "cell_type": "code",
      "execution_count": null,
      "metadata": {
        "collapsed": false
      },
      "outputs": [],
      "source": [
        "radar_mapping = (0, 2, 4)"
      ]
    },
    {
      "cell_type": "markdown",
      "metadata": {},
      "source": [
        "A newer feature of the SMART FUSION platform simulations are the ability to\ngenerate clutter directly from the sensors using the :class:`~.ClutterModel`\nclass. Using the clutter models, we can simulate realistic clutter\noriginating from the measurement model. Clutter is defined in the Cartesian\nplane and converted to the correct measurement types according to the\nsensor. We will now add a clutter model to the radar sensor. This clutter\nmodel will use a uniform distribution over the defined ranges in each\ndimension.\n\n"
      ]
    },
    {
      "cell_type": "code",
      "execution_count": null,
      "metadata": {
        "collapsed": false
      },
      "outputs": [],
      "source": [
        "params = ((-10000, 10000),  # clutter min x and max x\n          (-10000, 10000),  # clutter min y and max y\n          (8000, 10000))  # clutter min z and max z\nclutter_model = ClutterModel(\n     clutter_rate=0.5,\n     distribution=np.random.default_rng().uniform,\n     dist_params=params\n)"
      ]
    },
    {
      "cell_type": "markdown",
      "metadata": {},
      "source": [
        "Instantiate the radar and finally, attach the sensor to the stationary platform we defined above.\n\n"
      ]
    },
    {
      "cell_type": "code",
      "execution_count": null,
      "metadata": {
        "collapsed": false
      },
      "outputs": [],
      "source": [
        "radar = RadarElevationBearingRange(\n    ndim_state=6,\n    position_mapping=radar_mapping,\n    noise_covar=noise_covar,\n    clutter_model=clutter_model\n)\n\nplatform.add_sensor(radar)"
      ]
    },
    {
      "cell_type": "markdown",
      "metadata": {},
      "source": [
        "## Create the Simulation\nFor this example, we wish to have a simulation of multiple airborne targets.\nWe will use the :class:`~.MultiTargetGroundTruthSimulator` class to simulate\nthe target paths, and then the :class:`~.PlatformDetectionSimulator` class\nto handle the radar simulation.\n\n"
      ]
    },
    {
      "cell_type": "markdown",
      "metadata": {},
      "source": [
        "Set a constant velocity transition model for the targets\n\n"
      ]
    },
    {
      "cell_type": "code",
      "execution_count": null,
      "metadata": {
        "collapsed": false
      },
      "outputs": [],
      "source": [
        "transition_model = CombinedLinearGaussianTransitionModel(\n    [ConstantVelocity(0.5), ConstantVelocity(0.5), ConstantVelocity(0.1)])"
      ]
    },
    {
      "cell_type": "markdown",
      "metadata": {},
      "source": [
        "Define the Gaussian State from which new targets are sampled on\ninitialisation\n\n"
      ]
    },
    {
      "cell_type": "code",
      "execution_count": null,
      "metadata": {
        "collapsed": false
      },
      "outputs": [],
      "source": [
        "initial_target_state = GaussianState(\n    state_vector=StateVector([[0], [0], [0], [0], [9000], [0]]),\n    covar=CovarianceMatrix(np.diag([2000, 50, 2000, 50, 100, 1]))\n)"
      ]
    },
    {
      "cell_type": "markdown",
      "metadata": {},
      "source": [
        "And create the truth simulator for the targets\n\n"
      ]
    },
    {
      "cell_type": "code",
      "execution_count": null,
      "metadata": {
        "collapsed": false
      },
      "outputs": [],
      "source": [
        "from smartfusion.simulator.simple import MultiTargetGroundTruthSimulator\ngroundtruth_sim = MultiTargetGroundTruthSimulator(\n    transition_model=transition_model,  # target transition model\n    initial_state=initial_target_state,  # add our initial state for targets\n    timestep=timedelta(seconds=1),  # time between measurements\n    number_steps=120,  # 2 minutes\n    birth_rate=0.05,  # 5% chance of a new target being born every second\n    death_probability=0.05  # 5% chance of a target being killed\n)"
      ]
    },
    {
      "cell_type": "markdown",
      "metadata": {},
      "source": [
        "With our truth data generated and our sensor platform placed, we can now\nconstruct a simulator to generate measurements of the targets from each\nof the sensors in the simulation; in this case, just the stationary radar.\n\n"
      ]
    },
    {
      "cell_type": "code",
      "execution_count": null,
      "metadata": {
        "collapsed": false
      },
      "outputs": [],
      "source": [
        "from smartfusion.simulator.platform import PlatformDetectionSimulator\n\nsim = PlatformDetectionSimulator(\n    groundtruth=groundtruth_sim,\n    platforms=[platform]\n)"
      ]
    },
    {
      "cell_type": "markdown",
      "metadata": {},
      "source": [
        "## Set Up the Tracking Algorithm\nFor this example, we will be using the JPDA algorithm to perform \"soft\"\nassociations of the measurements to the targets. This is necessary as we\nhave multiple airborne targets whose paths may intersect - a \"hard\" or\n\"greedy\" association algorithm such as the GNN may have issues in these\ncases.\n\n"
      ]
    },
    {
      "cell_type": "markdown",
      "metadata": {},
      "source": [
        "First, we create a Kalman predictor using the transition model from the\ntarget simulation. In real situations, you may not know the actual\ntransition model.\n\n"
      ]
    },
    {
      "cell_type": "code",
      "execution_count": null,
      "metadata": {
        "collapsed": false
      },
      "outputs": [],
      "source": [
        "from smartfusion.predictor.kalman import KalmanPredictor\npredictor = KalmanPredictor(transition_model)"
      ]
    },
    {
      "cell_type": "markdown",
      "metadata": {},
      "source": [
        "Next, we define a measurement model for the Kalman updater. Here we have\naltered the noise covariance matrix slightly to make it harder for the\ntracker.\n\n"
      ]
    },
    {
      "cell_type": "code",
      "execution_count": null,
      "metadata": {
        "collapsed": false
      },
      "outputs": [],
      "source": [
        "meas_covar = np.diag([np.deg2rad(0.5), np.deg2rad(0.15), 25])\nmeas_covar_trk = CovarianceMatrix(1.0*np.power(meas_covar, 2))\nmeas_model = CartesianToElevationBearingRange(\n    ndim_state=6,\n    mapping=(0, 2, 4),\n    noise_covar=meas_covar_trk\n)"
      ]
    },
    {
      "cell_type": "markdown",
      "metadata": {},
      "source": [
        "Using the measurement model, we make a Kalman updater which we will pass\ninto our JPDA tracker.\n\n"
      ]
    },
    {
      "cell_type": "code",
      "execution_count": null,
      "metadata": {
        "collapsed": false
      },
      "outputs": [],
      "source": [
        "from smartfusion.updater.kalman import ExtendedKalmanUpdater\nupdater = ExtendedKalmanUpdater(measurement_model=meas_model)"
      ]
    },
    {
      "cell_type": "markdown",
      "metadata": {},
      "source": [
        "The hypothesiser will assume that there is a 95% chance to measure any given\ntarget at any given timestep. In real life, this probability is based on the\nSNR of the target signals. The clutter spatial density of the hypothesiser\ncan be changed to check what happens when there is a mismatch between the\nestimated clutter rate and actual clutter rate.\n\n"
      ]
    },
    {
      "cell_type": "code",
      "execution_count": null,
      "metadata": {
        "collapsed": false
      },
      "outputs": [],
      "source": [
        "from smartfusion.hypothesiser.probability import PDAHypothesiser\nPd = 0.95  # 95%\nhypothesiser = PDAHypothesiser(predictor=predictor,\n                               updater=updater,\n                               clutter_spatial_density=0.5,\n                               prob_detect=Pd)"
      ]
    },
    {
      "cell_type": "markdown",
      "metadata": {},
      "source": [
        "Using the hypothesiser, we can make a data associator. Other MTT algorithms\nmay use different association algorithms (like GNN)\n\n"
      ]
    },
    {
      "cell_type": "code",
      "execution_count": null,
      "metadata": {
        "collapsed": false
      },
      "outputs": [],
      "source": [
        "from smartfusion.dataassociator.probability import JPDA\ndata_associator = JPDA(hypothesiser=hypothesiser)"
      ]
    },
    {
      "cell_type": "markdown",
      "metadata": {},
      "source": [
        "We implement a simple deleter algorithm to delete tracks if no measurements\nhave fallen within the JPDA gating region in 3 time steps.\n\n"
      ]
    },
    {
      "cell_type": "code",
      "execution_count": null,
      "metadata": {
        "collapsed": false
      },
      "outputs": [],
      "source": [
        "deleter = UpdateTimeStepsDeleter(time_steps_since_update=3)"
      ]
    },
    {
      "cell_type": "markdown",
      "metadata": {},
      "source": [
        "We will now set up a track initiator. In real life, targets may enter the\nmeasurement zone at any time during the collection period, and may leave at\nany point as well. To distinguish new targets from random clutter, we use a\ntrack initiator. This specific algorithm is a multi-measurement initiator;\nit utilises features of the tracker to initiate and hold tracks temporarily\nwithin the initiator itself, releasing them to the tracker once there are\nmultiple detections associated with them enough to determine that they are\n\"sure\" tracks. In this case, the tracks are released after 3 appropriate\ndetections in a row.\n\n"
      ]
    },
    {
      "cell_type": "code",
      "execution_count": null,
      "metadata": {
        "collapsed": false
      },
      "outputs": [],
      "source": [
        "from smartfusion.initiator.simple import MultiMeasurementInitiator\nfrom smartfusion.dataassociator.neighbour import NearestNeighbour\n\nmin_detections = 3  # number of detections required to begin a track\ninitiator_prior_state = GaussianState(\n    state_vector=np.array([[0], [0], [0], [0], [0], [0]]),\n    covar=np.diag([0, 10, 0, 10, 0, 10])**2\n)\n\ninitiator_meas_model = CartesianToElevationBearingRange(\n    ndim_state=6,\n    mapping=np.array([0, 2, 4]),\n    noise_covar=noise_covar\n)\n\ninitiator = MultiMeasurementInitiator(\n    prior_state=initiator_prior_state,\n    measurement_model=meas_model,\n    deleter=deleter,\n    data_associator=NearestNeighbour(hypothesiser),\n    updater=updater,\n    min_points=min_detections,\n    updates_only=True\n)"
      ]
    },
    {
      "cell_type": "markdown",
      "metadata": {},
      "source": [
        "Now we are ready to Create a JPDA multi-target tracker.\n\n"
      ]
    },
    {
      "cell_type": "code",
      "execution_count": null,
      "metadata": {
        "collapsed": false
      },
      "outputs": [],
      "source": [
        "JPDA_tracker = MultiTargetMixtureTracker(\n    initiator=initiator,\n    deleter=deleter,\n    detector=sim,\n    data_associator=data_associator,\n    updater=updater\n)"
      ]
    },
    {
      "cell_type": "markdown",
      "metadata": {},
      "source": [
        "## Run the Simulation and Tracker\nSince the JPDA tracker holds the simulation variables, we can easily iterate\nthrough the tracker. Each time it will update the groundtruth simulation,\ngenerate detections using our fixed platform and radar, and run the tracking\nalgorithm.\n\n"
      ]
    },
    {
      "cell_type": "code",
      "execution_count": null,
      "metadata": {
        "collapsed": false
      },
      "outputs": [],
      "source": [
        "# Create lists to hold the information we want to plot later\ntracks_plot = set()\ntracks_id = set()\ngroundtruth_plot = set()\ndetections_plot = set()\n\n# Run the simulation and tracker\nfor time, ctracks in JPDA_tracker:\n    print(time)  # allows us to see the progress of the tracking simulation\n\n    for track in ctracks:\n        tracks_plot.add(track)\n    for truth in groundtruth_sim.current[1]:\n        groundtruth_plot.add(truth)\n    for detection in sim.detections:\n        detections_plot.add(detection)"
      ]
    },
    {
      "cell_type": "markdown",
      "metadata": {},
      "source": [
        "## Plot the Results\nNow that all of the relevant information has been extracted, the results can\nbe plotted using the 3D plotting functionality provided by the\n:class:`~.Plotter` class.\n\n"
      ]
    },
    {
      "cell_type": "code",
      "execution_count": null,
      "metadata": {
        "collapsed": false
      },
      "outputs": [],
      "source": [
        "from smartfusion.plotter import Plotter, Dimension\nplotter = Plotter(Dimension.THREE)\nplotter.plot_ground_truths(groundtruth_plot, [0, 2, 4])\nplotter.plot_measurements(detections_plot, [0, 2, 4])\nplotter.plot_tracks(tracks_plot, [0, 2, 4], uncertainty=False, err_freq=5)"
      ]
    },
    {
      "cell_type": "markdown",
      "metadata": {},
      "source": [
        "We will also make a plot without measurements/clutter to better see the\ntracks.\n\n"
      ]
    },
    {
      "cell_type": "code",
      "execution_count": null,
      "metadata": {
        "collapsed": false
      },
      "outputs": [],
      "source": [
        "plotter2 = Plotter(Dimension.THREE)\nplotter2.plot_ground_truths(groundtruth_plot, [0, 2, 4])\nplotter2.plot_tracks(tracks_plot, [0, 2, 4], uncertainty=True, err_freq=5)"
      ]
    },
    {
      "cell_type": "markdown",
      "metadata": {},
      "source": [
        "## Metrics\nTo analyse the tracker performance, we will use the OSPA, SIAP, and\nuncertainty metrics. For each of these metrics, we make a generator\nobject which gets put into a metric manager.\n\n"
      ]
    },
    {
      "cell_type": "code",
      "execution_count": null,
      "metadata": {
        "collapsed": false
      },
      "outputs": [],
      "source": [
        "# OSPA metric\nfrom smartfusion.metricgenerator.ospametric import OSPAMetric\nospa_generator = OSPAMetric(c=40, p=1)\n\n# SIAP metrics\nfrom smartfusion.metricgenerator.tracktotruthmetrics import SIAPMetrics\nfrom smartfusion.measures import Euclidean\nSIAPpos_measure = Euclidean(mapping=np.array([0, 2]))\nSIAPvel_measure = Euclidean(mapping=np.array([1, 3]))\nsiap_generator = SIAPMetrics(\n    position_measure=SIAPpos_measure,\n    velocity_measure=SIAPvel_measure\n)\n\n# Uncertainty metric\nfrom smartfusion.metricgenerator.uncertaintymetric import \\\n    SumofCovarianceNormsMetric\nuncertainty_generator = SumofCovarianceNormsMetric()"
      ]
    },
    {
      "cell_type": "markdown",
      "metadata": {},
      "source": [
        "The metric manager requires us to define an associator. Here we want to\ncompare the track estimates with the ground truth.\n\n"
      ]
    },
    {
      "cell_type": "code",
      "execution_count": null,
      "metadata": {
        "collapsed": false
      },
      "outputs": [],
      "source": [
        "from smartfusion.dataassociator.tracktotrack import TrackToTruth\nassociator = TrackToTruth(association_threshold=30)\n\nfrom smartfusion.metricgenerator.manager import SimpleManager\nmetric_manager = SimpleManager(\n    [ospa_generator, siap_generator, uncertainty_generator],\n    associator=associator\n)"
      ]
    },
    {
      "cell_type": "markdown",
      "metadata": {},
      "source": [
        "Since we saved the groundtruth and tracks before, we can easily add them\nto the metric manager now, and then tell it to generate the metrics.\n\n"
      ]
    },
    {
      "cell_type": "code",
      "execution_count": null,
      "metadata": {
        "collapsed": false
      },
      "outputs": [],
      "source": [
        "metric_manager.add_data(groundtruth_plot, tracks_plot)\nmetrics = metric_manager.generate_metrics()"
      ]
    },
    {
      "cell_type": "markdown",
      "metadata": {},
      "source": [
        "The first metric we will look at is the OSPA metric.\n\n"
      ]
    },
    {
      "cell_type": "code",
      "execution_count": null,
      "metadata": {
        "collapsed": false
      },
      "outputs": [],
      "source": [
        "ospa_metric = metrics[\"OSPA distances\"]\n\nfig, ax = plt.subplots()\nax.plot([i.timestamp for i in ospa_metric.value],\n        [i.value for i in ospa_metric.value])\nax.set_ylabel(\"OSPA distance\")\n_ = ax.set_xlabel(\"Time\")"
      ]
    },
    {
      "cell_type": "markdown",
      "metadata": {},
      "source": [
        "Next are the SIAP metrics. Specifically, we will look at the position and\nvelocity accuracy.\n\n"
      ]
    },
    {
      "cell_type": "code",
      "execution_count": null,
      "metadata": {
        "collapsed": false
      },
      "outputs": [],
      "source": [
        "position_accuracy = metrics['SIAP Position Accuracy at times']\nvelocity_accuracy = metrics['SIAP Velocity Accuracy at times']\ntimes = metric_manager.list_timestamps()\n\n# Make a figure with 2 subplots.\nfig, axes = plt.subplots(2)\n\n# The first subplot will show the position accuracy\naxes[0].set(title='Positional Accuracy Over Time', xlabel='Time',\n            ylabel='Accuracy')\naxes[0].plot(times, [metric.value for metric in position_accuracy.value])\n\n# The second subplot will show the velocity accuracy\naxes[1].set(title='Velocity Accuracy Over Time', xlabel='Time',\n            ylabel='Accuracy')\naxes[1].plot(times, [metric.value for metric in velocity_accuracy.value])\nplt.tight_layout()"
      ]
    },
    {
      "cell_type": "markdown",
      "metadata": {},
      "source": [
        "Finally, we will examine a general uncertainty metric. This is calculated as\nthe sum of the norms of the covariance matrices of each estimated state.\nSince the sum is not normalized for the number of estimated states, it is\nmost important to look at the trends of this graph rather than the values.\n\n"
      ]
    },
    {
      "cell_type": "code",
      "execution_count": null,
      "metadata": {
        "collapsed": false
      },
      "outputs": [],
      "source": [
        "uncertainty_metric = metrics[\"Sum of Covariance Norms Metric\"]\n\nfig, ax = plt.subplots()\nax.plot([i.timestamp for i in uncertainty_metric.value],\n        [i.value for i in uncertainty_metric.value])\n_ = ax.set(title=\"Track Uncertainty Over Time\", xlabel=\"Time\",\n           ylabel=\"Sum of covariance matrix norms\")"
      ]
    }
  ],
  "metadata": {
    "kernelspec": {
      "display_name": "Python 3",
      "language": "python",
      "name": "python3"
    },
    "language_info": {
      "codemirror_mode": {
        "name": "ipython",
        "version": 3
      },
      "file_extension": ".py",
      "mimetype": "text/x-python",
      "name": "python",
      "nbconvert_exporter": "python",
      "pygments_lexer": "ipython3",
      "version": "3.9.12"
    }
  },
  "nbformat": 4,
  "nbformat_minor": 0
}