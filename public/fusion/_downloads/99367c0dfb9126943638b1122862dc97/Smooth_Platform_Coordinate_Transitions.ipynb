{
  "cells": [
    {
      "cell_type": "code",
      "execution_count": null,
      "metadata": {
        "collapsed": false
      },
      "outputs": [],
      "source": [
        "%matplotlib inline"
      ]
    },
    {
      "cell_type": "markdown",
      "metadata": {},
      "source": [
        "\n# Creating Smooth Transitions Between Coordinates\n"
      ]
    },
    {
      "cell_type": "markdown",
      "metadata": {},
      "source": [
        "This is a demonstration of two methods for calculating transition models between given\ncoordinates in a Cartesian state space.\nThese methods are intended to be used in conjunction with\n:class:`~.MultiTransitionMovingPlatform`, which can be passed a list of models and\nmodel-durations, such that, for example, the platform could undergo constant velocity transition\nfor 5 minutes, followed by constant acceleration for 2 minutes.\n\n"
      ]
    },
    {
      "cell_type": "markdown",
      "metadata": {},
      "source": [
        "## Constant Acceleration\nThe first method is :meth:`~simulator.transition.get_smooth_transition_models`.\n\nThis method takes a series of 2D Cartesian coordinates, and returns a chain (list) of\n:class:`~.ConstantTurn` transition models, alongside a list of transition times that each\nrespective model should be used for.\n\nWhere required, the method also appends intermediate, custom, linear acceleration transition\nmodels :class:`~.Point2PointConstantAcceleration` which accelerates (/decelerates) the platform\nto an appropriate speed whereby it arrives at the next destination coordinates on-time, or\nallows it to arrive before-hand, whereby it stops at the destination until the designated time\n(using the :class:`~.Point2PointStop` custom transition model).\n\nThe method chooses the least change in bearing ($b$). Therefore altering its turn-rate\n($w$) such that it turns left if its target destination is to its left\n($b\\in [0, 180) \\Rightarrow w > 0$), and right if its destination is to the right\n($b\\in (-180, 0) \\Rightarrow w < 0$).\n\n"
      ]
    },
    {
      "cell_type": "markdown",
      "metadata": {},
      "source": [
        "### A Simple Demo of Constant Acceleration\nStart with the target (platform) facing top-right (45 degrees clockwise from North).\nThe target begins at the origin, at time = start.\n\nExpect the target to make a sharp, left-turn to get on a course toward the second coordinate\nat (-10, 10).\n\n"
      ]
    },
    {
      "cell_type": "code",
      "execution_count": null,
      "metadata": {
        "collapsed": false
      },
      "outputs": [],
      "source": [
        "import numpy as np\nfrom datetime import timedelta, datetime\nfrom matplotlib import pyplot as plt\n\nstart = datetime.now()\n\nX = Y = np.array([0, -10, -20])\nY = np.array([0, 10, 0])\ntimes = [start, start+timedelta(seconds=10), start+timedelta(seconds=30)]"
      ]
    },
    {
      "cell_type": "markdown",
      "metadata": {},
      "source": [
        "Plotting the three target destinations (in blue) and the target initial bearing in green:\n\n"
      ]
    },
    {
      "cell_type": "code",
      "execution_count": null,
      "metadata": {
        "collapsed": false
      },
      "outputs": [],
      "source": [
        "from smartfusion.types.array import StateVector\nfrom smartfusion.types.state import State\n\nux = 1  # initial x-speed\nuy = 1  # initial y-speed\nplatform_state = State(StateVector((X[0], ux, Y[0], uy)), timestamp=start)\n\nfig = plt.figure(figsize=(10, 6))\nax = fig.add_subplot(1, 1, 1)\nax.set_xlabel(\"$x$\")\nax.set_ylabel(\"$y$\")\nax.axis('equal')\nax.scatter(X, Y, color='lightskyblue', s=100, edgecolors='black')\nax.plot((X[0], X[0] + 2*ux), (Y[0], Y[0] + 2*uy), color='lightgreen', linewidth=2)"
      ]
    },
    {
      "cell_type": "markdown",
      "metadata": {},
      "source": [
        ":meth:`~simulator.transition.get_smooth_transition_models` requires the initial state of the\nplatform, x and y coordinates, times to be at each respective coordinate and the platform\nturn-rate.\n\nThe 'times' parameter will dictate the times at which the target should be at each respective\ntarget coordinate. Hence, the first coordinate transition should take 10 seconds.\nThe target starts off with insufficient speed, so we expect it to accelerate once out of the turn\nso as to get to the destination in a total of 10 seconds.\n\nThe target will have a constant turn rate of 25 degrees per second - a sharp turn, partly to\nguarantee that it can reach its destination in time, but also as initial velocity and angle\nturn-rate are constrained according to the following formulae (derived for the case where\nturn-rate ($w$) and initial bearing ($a$) are positive and $< 180$ degrees):\n\n<img src=\"https://smartfusion.rtfd.io/en/latest/_static/deriving_constant_turn_angle.png\" width=\"900\" alt=\"Derivation of constant turn equation\">\n\nwhere we must have that $c \\leq \\frac{d\\sin(b)}{\\sin(wt)}$. Ie. the turn must be completed\nwithout the target 'over-shooting' the destination.\nAlong with the constraint that the turn must be possible - if the turn-rate is too low, the\ntarget may never turn enough to hit the destination.\n\n"
      ]
    },
    {
      "cell_type": "code",
      "execution_count": null,
      "metadata": {
        "collapsed": false
      },
      "outputs": [],
      "source": [
        "from smartfusion.simulator.transition import create_smooth_transition_models\ntransition_models, transition_times = create_smooth_transition_models(initial_state=platform_state,\n                                                                      x_coords=X,\n                                                                      y_coords=Y,\n                                                                      times=times,\n                                                                      turn_rate=np.radians(25))"
      ]
    },
    {
      "cell_type": "markdown",
      "metadata": {},
      "source": [
        "This gives the transition times/models:\n\n"
      ]
    },
    {
      "cell_type": "code",
      "execution_count": null,
      "metadata": {
        "collapsed": false
      },
      "outputs": [],
      "source": [
        "from smartfusion.models.transition.linear import KnownTurnRate\nfor transition_time, transition_model in zip(transition_times, transition_models):\n    print('Duration: ', transition_time.total_seconds(), 's ',\n          'Model: ', type(transition_model), end=' ')\n    if isinstance(transition_model, KnownTurnRate):\n        print('turn-rate: ', transition_model.turn_rate)\n    else:\n        print('x-acceleration: ', transition_model.ax, end=', ')\n        print('y-acceleration: ', transition_model.ay)"
      ]
    },
    {
      "cell_type": "markdown",
      "metadata": {},
      "source": [
        "The last transition model calls a :class:`~.Point2PointStop` transition model to bring the target\nto a complete stop (as a linear acceleration model would require the target to over-shoot the\ndestination and turn-back on itself in order to arrive at the correct time).\n\n"
      ]
    },
    {
      "cell_type": "markdown",
      "metadata": {},
      "source": [
        "Create a :class:`~.MultiTransitionMovingPlatform` using the output transition models and times.\n\n"
      ]
    },
    {
      "cell_type": "code",
      "execution_count": null,
      "metadata": {
        "collapsed": false
      },
      "outputs": [],
      "source": [
        "from smartfusion.platform.base import MultiTransitionMovingPlatform\nplatform = MultiTransitionMovingPlatform(states=platform_state,\n                                         position_mapping=(0, 2),\n                                         transition_models=transition_models,\n                                         transition_times=transition_times)"
      ]
    },
    {
      "cell_type": "markdown",
      "metadata": {},
      "source": [
        "Plot the platform path (light blue). Acceleration is shown by (dark blue) marker density (further\napart => faster). The deceleration to 0-velocity at the 3rd target coordinate is clear.\n(Platform may be slightly off as transition times are rounded down).\n\n"
      ]
    },
    {
      "cell_type": "code",
      "execution_count": null,
      "metadata": {
        "collapsed": false
      },
      "outputs": [],
      "source": [
        "platform_coords = []\nfor i in range(int((times[-1] - times[0]).total_seconds())):\n    platform_coords.append((platform.state.state_vector[0], platform.state.state_vector[2]))\n    platform.move(timestamp=start+timedelta(seconds=i))\n\nax.plot([coord[0] for coord in platform_coords],\n        [coord[1] for coord in platform_coords],\n        color='lightskyblue',\n        marker='.',\n        markerfacecolor='blue',\n        linewidth=3)\nfig"
      ]
    },
    {
      "cell_type": "markdown",
      "metadata": {},
      "source": [
        "### Running through multiple coordinates with Constant Acceleration\nA demonstration using several coordinates.\n\n"
      ]
    },
    {
      "cell_type": "code",
      "execution_count": null,
      "metadata": {
        "collapsed": false
      },
      "outputs": [],
      "source": [
        "np.random.seed(101)\n\n# Move in positive x-direction.\nX = np.array([0])\nfor i in range(11):\n    X = np.append(X, X[-1] + np.random.randint(20, 100))\nprint('X = ', X)\n\n# Vary y in [-5, 5).\nY = np.array([0])\nfor i in range(11):\n    Y = np.append(Y, np.random.randint(-50, 50))\nprint('Y = ', Y)\n\n# 1 hour to get to each coord.\ntimes = [start+timedelta(seconds=3600*i) for i in range(len(X))]  # Total of 12 hours\n\nfig = plt.figure(figsize=(10, 6))\nax = fig.add_subplot(1, 1, 1)\nax.set_xlabel(\"$x$\")\nax.set_ylabel(\"$y$\")\nax.axis('equal')\nax.scatter(X, Y, color='lightskyblue', s=100, edgecolors='black')"
      ]
    },
    {
      "cell_type": "code",
      "execution_count": null,
      "metadata": {
        "collapsed": false
      },
      "outputs": [],
      "source": [
        "initial_vx = (X[1]-X[0]) / 3600  # initial x-speed\ninitial_vy = 0  # initial y-speed\nplatform_state = State((X[0], initial_vx, Y[0], initial_vy), timestamp=start)\n\ntransition_models, transition_times = create_smooth_transition_models(initial_state=platform_state,\n                                                                      x_coords=X,\n                                                                      y_coords=Y,\n                                                                      times=times,\n                                                                      turn_rate=np.radians(0.1))\nplatform = MultiTransitionMovingPlatform(states=platform_state,\n                                         position_mapping=(0, 2),\n                                         transition_models=transition_models,\n                                         transition_times=transition_times)"
      ]
    },
    {
      "cell_type": "code",
      "execution_count": null,
      "metadata": {
        "collapsed": false
      },
      "outputs": [],
      "source": [
        "platform_coords = []\nsim_rate = 100  # 'sim_rate'-seconds each time-step.\nfor i in range(int((times[-1] - times[0]).total_seconds()/sim_rate)):\n    platform_coords.append((platform.state.state_vector[0], platform.state.state_vector[2]))\n    platform.move(timestamp=start+timedelta(seconds=sim_rate*i))\nplatform_coords.append((platform.state.state_vector[0], platform.state.state_vector[2]))\n\nax.plot([coord[0] for coord in platform_coords],\n        [coord[1] for coord in platform_coords],\n        color='blue',\n        linewidth=3)\nfig"
      ]
    },
    {
      "cell_type": "markdown",
      "metadata": {},
      "source": [
        "## Constant Jerk\nThe next method is :meth:`~.simulator.transition.ConstantJerkSimulator.create_models`\n\nThis method takes a series of states with Cartesian kinematic state space elements and returns a\nchain (list) of :class:`~.ConstantJerkSimulator` transition models and transition times.\n\nThe :class:`~.ConstantJerkSimulator` type of transition model is an implementation of a\nnoiseless, constant jerk transition in the kinematic, Cartesian subspace of the state space.\n\nThe user will need to provide both initial and final position and velocities. This can be of any\ndimension. For example, constant jerk in the space $(x, \\dot{x}, y, \\dot{y})$ and\n$(x, \\dot{x}, y, \\dot{y}, z, \\dot{z})$ are valid (elements need not be in this order, as a\nposition  mapping and velocity mapping can be passed to the method to specify where the position\nand velocity components are respectively).\n\n"
      ]
    },
    {
      "cell_type": "markdown",
      "metadata": {},
      "source": [
        "### A Simple Demo of Constant Jerk\nWe will use the same set-up as before, but specify an initial and final velocity as well.\n\n"
      ]
    },
    {
      "cell_type": "code",
      "execution_count": null,
      "metadata": {
        "collapsed": false
      },
      "outputs": [],
      "source": [
        "start = datetime.now()\nposition_mapping = (0, 2)\nvelocity_mapping = (1, 3)\nstates = [\n    State(StateVector([0, 1, 0, 1]), start),  # at origin, pointing NE\n    State(StateVector([-10, 0, 10, -2]), start + timedelta(seconds=5)),  # at (-10, 10), pointing N\n    State(StateVector([-20, 0, 0, 0]), start + timedelta(seconds=10))  # at (-20, 10), 0 velocity\n]"
      ]
    },
    {
      "cell_type": "markdown",
      "metadata": {},
      "source": [
        "Plotting the three target destinations in blue and orientations in green:\n\n"
      ]
    },
    {
      "cell_type": "code",
      "execution_count": null,
      "metadata": {
        "collapsed": false
      },
      "outputs": [],
      "source": [
        "fig = plt.figure(figsize=(10, 6))\nax = fig.add_subplot(1, 1, 1)\nax.set_xlabel(\"$x$\")\nax.set_ylabel(\"$y$\")\nax.axis('equal')\nax.scatter(*zip(*[state.state_vector[(0, 2), :] for state in states]),\n           color='lightskyblue', s=100, edgecolors='black')\nfor state in states:\n    x, vx, y, vy = state.state_vector\n    ax.plot((x, x+vx), (y, y+vy), color='lightgreen', linewidth=2)"
      ]
    },
    {
      "cell_type": "markdown",
      "metadata": {},
      "source": [
        "To create the list of transition models and durations, pass the list of states, position mapping\nand velocity mapping (optional) to the\n:meth:`~.simulator.transition.ConstantJerkSimulator.create_models` method.\n\n"
      ]
    },
    {
      "cell_type": "code",
      "execution_count": null,
      "metadata": {
        "collapsed": false
      },
      "outputs": [],
      "source": [
        "from smartfusion.simulator.transition import ConstantJerkSimulator\ntransition_models, transition_times = ConstantJerkSimulator.create_models(states,\n                                                                          position_mapping,\n                                                                          velocity_mapping)\n\nfor transition_time, transition_model in zip(transition_times, transition_models):\n    print(f\"Duration: {transition_time}s, Model: {type(transition_model)},\"\n          f\"Initial Accels: {transition_model.init_A}, Final Accels: {transition_model.final_A}, \"\n          f\"Jerk Values: {transition_model.jerk}\")"
      ]
    },
    {
      "cell_type": "markdown",
      "metadata": {},
      "source": [
        "Create a :class:`~.MultiTransitionMovingPlatform` using the output transition models and times.\n\n"
      ]
    },
    {
      "cell_type": "code",
      "execution_count": null,
      "metadata": {
        "collapsed": false
      },
      "outputs": [],
      "source": [
        "platform = MultiTransitionMovingPlatform(states=states[0],\n                                         position_mapping=position_mapping,\n                                         transition_models=transition_models,\n                                         transition_times=transition_times)"
      ]
    },
    {
      "cell_type": "markdown",
      "metadata": {},
      "source": [
        "Plot the platform path (light blue).\n\n"
      ]
    },
    {
      "cell_type": "code",
      "execution_count": null,
      "metadata": {
        "collapsed": false
      },
      "outputs": [],
      "source": [
        "while platform.timestamp < states[-1].timestamp:\n    platform.move(timestamp=platform.timestamp+timedelta(seconds=0.01))\n\nax.plot(*np.array([state.state_vector[(0, 2), :].flatten() for state in platform.states]).T,\n        color='lightskyblue', linewidth=3)\nfig"
      ]
    },
    {
      "cell_type": "markdown",
      "metadata": {},
      "source": [
        "### Running through multiple coordinates with Constant Jerk\nA demonstration using several coordinates.\n\n"
      ]
    },
    {
      "cell_type": "code",
      "execution_count": null,
      "metadata": {
        "collapsed": false
      },
      "outputs": [],
      "source": [
        "ndim_state = np.random.randint(4, 6)\nstates = [State(np.random.rand(ndim_state, 1), start + timedelta(minutes=i))\n          for i in range(5)]\nfor state in states:\n    state.state_vector[position_mapping, :] *= 100  # increase distances between states\nif ndim_state > 4:\n    for state in states[1:]:\n        for i in range(4, ndim_state):\n            # non-kinematic elements stay the same\n            state.state_vector[i] = states[0].state_vector[i]\n\nfig = plt.figure(figsize=(10, 6))\nax = fig.add_subplot(1, 1, 1)\nax.set_xlabel(\"$x$\")\nax.set_ylabel(\"$y$\")\nax.axis('equal')\nax.scatter(*zip(*[state.state_vector[(0, 2), :] for state in states]),\n           color='lightskyblue', s=100, edgecolors='black')\nfor state in states:\n    x, vx, y, vy, *_ = state.state_vector\n    ax.plot((x, x+vx), (y, y+vy), color='lightgreen', linewidth=2)"
      ]
    },
    {
      "cell_type": "code",
      "execution_count": null,
      "metadata": {
        "collapsed": false
      },
      "outputs": [],
      "source": [
        "transition_models, transition_times = ConstantJerkSimulator.create_models(states,\n                                                                          position_mapping,\n                                                                          velocity_mapping)\nplatform = MultiTransitionMovingPlatform(states=states[0],\n                                         position_mapping=position_mapping,\n                                         transition_models=transition_models,\n                                         transition_times=transition_times)"
      ]
    },
    {
      "cell_type": "code",
      "execution_count": null,
      "metadata": {
        "collapsed": false
      },
      "outputs": [],
      "source": [
        "while platform.timestamp < states[-1].timestamp:\n    platform.move(timestamp=platform.timestamp+timedelta(seconds=0.01))\n\nax.plot(*np.array([state.state_vector[(0, 2), :].flatten() for state in platform.states]).T,\n        color='lightskyblue', linewidth=3)\nfig"
      ]
    }
  ],
  "metadata": {
    "kernelspec": {
      "display_name": "Python 3",
      "language": "python",
      "name": "python3"
    },
    "language_info": {
      "codemirror_mode": {
        "name": "ipython",
        "version": 3
      },
      "file_extension": ".py",
      "mimetype": "text/x-python",
      "name": "python",
      "nbconvert_exporter": "python",
      "pygments_lexer": "ipython3",
      "version": "3.9.12"
    }
  },
  "nbformat": 4,
  "nbformat_minor": 0
}