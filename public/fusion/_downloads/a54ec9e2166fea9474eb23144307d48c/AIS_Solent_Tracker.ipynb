{
  "cells": [
    {
      "cell_type": "code",
      "execution_count": null,
      "metadata": {
        "collapsed": false
      },
      "outputs": [],
      "source": [
        "%matplotlib inline"
      ]
    },
    {
      "cell_type": "markdown",
      "metadata": {},
      "source": [
        "\n# Tracking AIS Reports Using SMART FUSION\n"
      ]
    },
    {
      "cell_type": "markdown",
      "metadata": {},
      "source": [
        "**Demonstrating the capabilities of SMART FUSION using recorded AIS data**\n\nIn this notebook we will load a CSV file of |AIS|_ data from the `The Solent`_, to use as\ndetections in a SMART FUSION tracker.\nWe will build the tracker from individual components and display the track output on a map.\n\n.. |AIS| replace:: :abbr:`AIS (Automatic Identification System)`\n\n"
      ]
    },
    {
      "cell_type": "markdown",
      "metadata": {},
      "source": [
        "## Building the detector\nFirst we will prepare our detector for the |AIS|_ data, which is in a\n:download:`CSV file <../../demos/SolentAIS_20160112_130211.csv>`, using the SMART FUSION generic\nCSV reader.\n\n"
      ]
    },
    {
      "cell_type": "code",
      "execution_count": null,
      "metadata": {
        "collapsed": false
      },
      "outputs": [],
      "source": [
        "from smartfusion.reader.generic import CSVDetectionReader\ndetector = CSVDetectionReader(\n    \"SolentAIS_20160112_130211.csv\",\n    state_vector_fields=(\"Longitude_degrees\", \"Latitude_degrees\"),\n    time_field=\"Time\")"
      ]
    },
    {
      "cell_type": "markdown",
      "metadata": {},
      "source": [
        "We use a feeder class to mimic a detector, passing our detections into the tracker, one detection\nper vessel per minute. This is based on assumption that the identifier |MMSI|_ is unique per\nvessel.\n\n.. |MMSI| replace:: :abbr:`MMSI (Maritime Mobile Service Identity)`\n\n"
      ]
    },
    {
      "cell_type": "code",
      "execution_count": null,
      "metadata": {
        "collapsed": false
      },
      "outputs": [],
      "source": [
        "import datetime\n\n# Limit updates to one detection per minute...\nfrom smartfusion.feeder.time import TimeSyncFeeder\ndetector = TimeSyncFeeder(detector, time_window=datetime.timedelta(seconds=60))\n\n# ... but reduce so only one per MMSI\nfrom smartfusion.feeder.filter import MetadataReducer\ndetector = MetadataReducer(detector, 'MMSI')"
      ]
    },
    {
      "cell_type": "markdown",
      "metadata": {},
      "source": [
        "In this instance, we want to convert the Latitude/Longitude information from the |AIS|_ file to\n|UTM|_ projection, as this approximates to a local Cartesian space better suited for the models\nwe will use. The UTM zone will be fixed, based on the first detection processed.\n\n.. |UTM| replace:: :abbr:`UTM (Universal Transverse Mercator)`\n\n"
      ]
    },
    {
      "cell_type": "code",
      "execution_count": null,
      "metadata": {
        "collapsed": false
      },
      "outputs": [],
      "source": [
        "from smartfusion.feeder.geo import LongLatToUTMConverter\ndetector = LongLatToUTMConverter(detector)"
      ]
    },
    {
      "cell_type": "markdown",
      "metadata": {},
      "source": [
        "## Creating the models and filters\nNow we begin to build our tracker from SMART FUSION components. The first component we will build\nis a linear transition model. We create a two-dimensional transition model by combining two\nindividual one-dimensional `Ornstein Uhlenbeck`_ models. This is similar to\n:class:`~.ConstantVelocity`, which has an additional :attr:`~.OrnsteinUhlenbeck.damping_coeff`\nwhich models decaying velocity (we assume vessels will slow down to zero over time, rather than\ncontinually speed up)\n\n\n"
      ]
    },
    {
      "cell_type": "code",
      "execution_count": null,
      "metadata": {
        "collapsed": false
      },
      "outputs": [],
      "source": [
        "from smartfusion.models.transition.linear import (\n    CombinedLinearGaussianTransitionModel, OrnsteinUhlenbeck)\ntransition_model = CombinedLinearGaussianTransitionModel(\n    (OrnsteinUhlenbeck(0.5, 1e-4), OrnsteinUhlenbeck(0.5, 1e-4)))"
      ]
    },
    {
      "cell_type": "markdown",
      "metadata": {},
      "source": [
        "Next we build a measurement model to describe the uncertainty on our detections. In this case, we\nare just using the measured position ($[0, 2]$ dimensions of state space), assuming from\nship's |GNSS|_ receiver system with covariance of $\\begin{bmatrix}15&0\\\\0&15\\end{bmatrix}$\n\n.. |GNSS| replace:: :abbr:`GNSS (Global Navigation Satellite System)`\n\n"
      ]
    },
    {
      "cell_type": "code",
      "execution_count": null,
      "metadata": {
        "collapsed": false
      },
      "outputs": [],
      "source": [
        "import numpy as np\n\nfrom smartfusion.models.measurement.linear import LinearGaussian\nmeasurement_model = LinearGaussian(\n    ndim_state=4, mapping=[0, 2], noise_covar=np.diag([15, 15]))"
      ]
    },
    {
      "cell_type": "markdown",
      "metadata": {},
      "source": [
        "With these models we can now create the predictor and updater components of the tracker, passing\nin the respective models.\n\n"
      ]
    },
    {
      "cell_type": "code",
      "execution_count": null,
      "metadata": {
        "collapsed": false
      },
      "outputs": [],
      "source": [
        "from smartfusion.predictor.kalman import KalmanPredictor\npredictor = KalmanPredictor(transition_model)"
      ]
    },
    {
      "cell_type": "code",
      "execution_count": null,
      "metadata": {
        "collapsed": false
      },
      "outputs": [],
      "source": [
        "from smartfusion.updater.kalman import KalmanUpdater\nupdater = KalmanUpdater(measurement_model)"
      ]
    },
    {
      "cell_type": "markdown",
      "metadata": {},
      "source": [
        "## Creating data associators\nTo associate our detections to track objects generate hypotheses using a hypothesiser. In this\ncase we are using a :class:`~.Mahalanobis` distance measure. In addition, we are exploiting the\nfact that the detections should have the same |MMSI|_ for a single vessel, by gating out\ndetections that don't match the tracks |MMSI|_ (this being populated by detections used to create\nthe track).\n\n"
      ]
    },
    {
      "cell_type": "code",
      "execution_count": null,
      "metadata": {
        "collapsed": false
      },
      "outputs": [],
      "source": [
        "from smartfusion.gater.filtered import FilteredDetectionsGater\nfrom smartfusion.hypothesiser.distance import DistanceHypothesiser\nfrom smartfusion.measures import Mahalanobis\nmeasure = Mahalanobis()\nhypothesiser = FilteredDetectionsGater(\n    DistanceHypothesiser(predictor, updater, measure, missed_distance=3),\n    metadata_filter=\"MMSI\"\n)"
      ]
    },
    {
      "cell_type": "markdown",
      "metadata": {},
      "source": [
        "We will use a nearest-neighbour association algorithm, passing in the Mahalanobis distance\nhypothesiser built in the previous step.\n\n"
      ]
    },
    {
      "cell_type": "code",
      "execution_count": null,
      "metadata": {
        "collapsed": false
      },
      "outputs": [],
      "source": [
        "from smartfusion.dataassociator.neighbour import NearestNeighbour\ndata_associator = NearestNeighbour(hypothesiser)"
      ]
    },
    {
      "cell_type": "markdown",
      "metadata": {},
      "source": [
        "## Creating track initiators and deleters\nWe need a method to initiate tracks. For this we will create an initiator component\nand have it generate a :class:`~.GaussianState`. In this case, we'll use a measurement initiator\nwhich uses the measurement's value and model covariance where possible. In this case, as we are\nusing position from |AIS|_, we only need to be concerned about defining the velocity prior. The\nprior we are using has the velocity state vector as zero, and variance of 10m/s.\n\n"
      ]
    },
    {
      "cell_type": "code",
      "execution_count": null,
      "metadata": {
        "collapsed": false
      },
      "outputs": [],
      "source": [
        "from smartfusion.types.state import GaussianState\nfrom smartfusion.initiator.simple import SimpleMeasurementInitiator\ninitiator = SimpleMeasurementInitiator(\n    GaussianState([[0], [0], [0], [0]], np.diag([0, 10, 0, 10])),\n    measurement_model)"
      ]
    },
    {
      "cell_type": "markdown",
      "metadata": {},
      "source": [
        "As well as an initiator we must also have a deleter. This deleter removes tracks which haven't\nbeen updated for a defined time period, in this case 10 minutes.\n\n"
      ]
    },
    {
      "cell_type": "code",
      "execution_count": null,
      "metadata": {
        "collapsed": false
      },
      "outputs": [],
      "source": [
        "from smartfusion.deleter.time import UpdateTimeDeleter\ndeleter = UpdateTimeDeleter(time_since_update=datetime.timedelta(minutes=10))"
      ]
    },
    {
      "cell_type": "markdown",
      "metadata": {},
      "source": [
        "## Building and running the tracker\nWith all the individual components specified we can now build our tracker. This is as simple as\npassing in the components.\n\n"
      ]
    },
    {
      "cell_type": "code",
      "execution_count": null,
      "metadata": {
        "collapsed": false
      },
      "outputs": [],
      "source": [
        "from smartfusion.tracker.simple import MultiTargetTracker\ntracker = MultiTargetTracker(\n    initiator=initiator,\n    deleter=deleter,\n    detector=detector,\n    data_associator=data_associator,\n    updater=updater,\n)"
      ]
    },
    {
      "cell_type": "markdown",
      "metadata": {},
      "source": [
        "Our tracker is built and our detections are ready to be read in from the CSV file, now we set the\ntracker to work. This is done by initiating a loop to generate tracks at each time interval.\nWe'll keep a record of all tracks generated over time in a :class:`set` called `tracks`; as a\n:class:`set` we can simply update this with `current_tracks` at each timestep, not worrying about\nduplicates.\n\n"
      ]
    },
    {
      "cell_type": "code",
      "execution_count": null,
      "metadata": {
        "collapsed": false
      },
      "outputs": [],
      "source": [
        "tracks = set()\nfor step, (time, current_tracks) in enumerate(tracker, 1):\n    tracks.update(current_tracks)\n    if not step % 10:\n        print(\"Step: {} Time: {}\".format(step, time))"
      ]
    },
    {
      "cell_type": "markdown",
      "metadata": {},
      "source": [
        "## Checking and plotting results\nThe tracker has now run over the full data set and produced an output tracks. In this data set,\nfrom the below, we can see that we generated different number of tracks:\n\n"
      ]
    },
    {
      "cell_type": "code",
      "execution_count": null,
      "metadata": {
        "collapsed": false
      },
      "outputs": [],
      "source": [
        "len(tracks)"
      ]
    },
    {
      "cell_type": "markdown",
      "metadata": {},
      "source": [
        "Versus the number of unique vessels/|MMSI|_:\n\n"
      ]
    },
    {
      "cell_type": "code",
      "execution_count": null,
      "metadata": {
        "collapsed": false
      },
      "outputs": [],
      "source": [
        "len({track.metadata['MMSI'] for track in tracks})"
      ]
    },
    {
      "cell_type": "markdown",
      "metadata": {},
      "source": [
        "We will use the Folium_ python library to display these tracks on a map. The markers can be\nclicked on to reveal the track metadata. (Tracks with same |MMSI|_ will be same colour, but\ncolour may be used for multiple |MMSI|_)\n\n\n"
      ]
    },
    {
      "cell_type": "code",
      "execution_count": null,
      "metadata": {
        "collapsed": false
      },
      "outputs": [],
      "source": [
        "from collections import defaultdict\nfrom itertools import cycle\n\nimport folium\nimport utm\n\ncolour_iter = iter(cycle(\n    ['red', 'blue', 'green', 'purple', 'orange', 'darkred',\n     'lightred', 'beige', 'darkblue', 'darkgreen', 'cadetblue',\n     'darkpurple', 'pink', 'lightblue', 'lightgreen',\n     'gray', 'black', 'lightgray']))\ncolour = defaultdict(lambda: next(colour_iter))\n\nm = folium.Map(location=[50.75, -1], zoom_start=10)\nfor track in tracks:\n    points = [\n        utm.to_latlon(\n            *state.state_vector[measurement_model.mapping, :],\n            detector.zone_number, northern=detector.northern, strict=False)\n        for state in track]\n    folium.PolyLine(points, color=colour[track.metadata.get('MMSI')]).add_to(m)\n    folium.Marker(\n        points[-1],\n        icon=folium.Icon(icon='fa-ship', prefix=\"fa\", color=colour[track.metadata.get('MMSI')]),\n        popup=\"\\n\".join(\"{}: {}\".format(key, value) for key, value in track.metadata.items())\n    ).add_to(m)"
      ]
    },
    {
      "cell_type": "code",
      "execution_count": null,
      "metadata": {
        "collapsed": false
      },
      "outputs": [],
      "source": [
        "m"
      ]
    }
  ],
  "metadata": {
    "kernelspec": {
      "display_name": "Python 3",
      "language": "python",
      "name": "python3"
    },
    "language_info": {
      "codemirror_mode": {
        "name": "ipython",
        "version": 3
      },
      "file_extension": ".py",
      "mimetype": "text/x-python",
      "name": "python",
      "nbconvert_exporter": "python",
      "pygments_lexer": "ipython3",
      "version": "3.9.12"
    }
  },
  "nbformat": 4,
  "nbformat_minor": 0
}