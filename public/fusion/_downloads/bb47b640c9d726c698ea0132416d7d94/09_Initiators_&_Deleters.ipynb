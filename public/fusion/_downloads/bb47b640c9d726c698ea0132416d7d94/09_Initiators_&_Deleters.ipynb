{
  "cells": [
    {
      "cell_type": "code",
      "execution_count": null,
      "metadata": {
        "collapsed": false
      },
      "outputs": [],
      "source": [
        "%matplotlib inline"
      ]
    },
    {
      "cell_type": "markdown",
      "metadata": {},
      "source": [
        "\n# 9 - Initiators & Deleters\nSo far we have provided a prior in all our examples, defining where we think our tracks will start.\nThis has also been for a fixed number of tracks. In practice, targets may appear and disappear\nall the time. This could be because they enter/exit the sensor's field of view.\nThe location/state of the targets' birth may also be unknown and varying.\n"
      ]
    },
    {
      "cell_type": "markdown",
      "metadata": {},
      "source": [
        "## Simulating multiple targets\nHere we'll simulate multiple targets moving at a constant velocity. A Poisson distribution will\nbe used to sample the number of new targets which are born at a particular timestep, and a simple\ndraw from a uniform distribution will be used to decide if a target will be removed. Each target\nwill have a random position and velocity on birth.\n\n"
      ]
    },
    {
      "cell_type": "code",
      "execution_count": null,
      "metadata": {
        "collapsed": false
      },
      "outputs": [],
      "source": [
        "from datetime import datetime\nfrom datetime import timedelta\n\nimport numpy as np\n\nfrom smartfusion.models.transition.linear import CombinedLinearGaussianTransitionModel, \\\n                                               ConstantVelocity\nfrom smartfusion.types.groundtruth import GroundTruthPath, GroundTruthState\n\nnp.random.seed(1991)\n\nstart_time = datetime.now()\ntruths = set()  # Truths across all time\ncurrent_truths = set()  # Truths alive at current time\n\ntransition_model = CombinedLinearGaussianTransitionModel([ConstantVelocity(0.005),\n                                                          ConstantVelocity(0.005)])\n\nfor k in range(20):\n    # Death\n    for truth in current_truths.copy():\n        if np.random.rand() <= 0.05:  # Death probability\n            current_truths.remove(truth)\n    # Update truths\n    for truth in current_truths:\n        truth.append(GroundTruthState(\n            transition_model.function(truth[-1], noise=True, time_interval=timedelta(seconds=1)),\n            timestamp=start_time + timedelta(seconds=k)))\n    # Birth\n    for _ in range(np.random.poisson(0.6)):  # Birth probability\n        x, y = initial_position = np.random.rand(2) * [20, 20]  # Range [0, 20] for x and y\n        x_vel, y_vel = (np.random.rand(2))*2 - 1  # Range [-1, 1] for x and y velocity\n        state = GroundTruthState([x, x_vel, y, y_vel], timestamp=start_time + timedelta(seconds=k))\n\n        # Add to truth set for current and for all timestamps\n        truth = GroundTruthPath([state])\n        current_truths.add(truth)\n        truths.add(truth)\n\nfrom smartfusion.plotter import Plotterly\nplotter = Plotterly()\nplotter.plot_ground_truths(truths, [0, 2])\nplotter.fig"
      ]
    },
    {
      "cell_type": "markdown",
      "metadata": {},
      "source": [
        "## Generate Detections and Clutter\nNext, generate detections with clutter just as in the previous tutorials, skipping over the truth\npaths that weren't alive at the current time step.\n\n"
      ]
    },
    {
      "cell_type": "code",
      "execution_count": null,
      "metadata": {
        "collapsed": false
      },
      "outputs": [],
      "source": [
        "from scipy.stats import uniform\nfrom smartfusion.types.detection import TrueDetection\nfrom smartfusion.types.detection import Clutter\nfrom smartfusion.models.measurement.linear import LinearGaussian\nmeasurement_model = LinearGaussian(\n    ndim_state=4,\n    mapping=(0, 2),\n    noise_covar=np.array([[0.25, 0],\n                          [0, 0.25]])\n    )\nall_measurements = []\n\nfor k in range(20):\n    measurement_set = set()\n    timestamp = start_time + timedelta(seconds=k)\n\n    for truth in truths:\n        try:\n            truth_state = truth[timestamp]\n        except IndexError:\n            # This truth not alive at this time.\n            continue\n        # Generate actual detection from the state with a 10% chance that no detection is received.\n        if np.random.rand() <= 0.9:\n            # Generate actual detection from the state\n            measurement = measurement_model.function(truth_state, noise=True)\n            measurement_set.add(TrueDetection(state_vector=measurement,\n                                              groundtruth_path=truth,\n                                              timestamp=truth_state.timestamp,\n                                              measurement_model=measurement_model))\n\n        # Generate clutter at this time-step\n        truth_x = truth_state.state_vector[0]\n        truth_y = truth_state.state_vector[2]\n        for _ in range(np.random.randint(2)):\n            x = uniform.rvs(truth_x - 10, 20)\n            y = uniform.rvs(truth_y - 10, 20)\n            measurement_set.add(Clutter(np.array([[x], [y]]), timestamp=timestamp,\n                                        measurement_model=measurement_model))\n    all_measurements.append(measurement_set)\n\n# Plot true detections and clutter.\nplotter.plot_measurements(all_measurements, [0, 2])\nplotter.fig"
      ]
    },
    {
      "cell_type": "markdown",
      "metadata": {},
      "source": [
        "## Creating a Tracker\nWe'll now create the tracker components as we did with the multi-target examples previously.\n\n"
      ]
    },
    {
      "cell_type": "code",
      "execution_count": null,
      "metadata": {
        "collapsed": false
      },
      "outputs": [],
      "source": [
        "from smartfusion.predictor.kalman import KalmanPredictor\npredictor = KalmanPredictor(transition_model)\n\nfrom smartfusion.updater.kalman import KalmanUpdater\nupdater = KalmanUpdater(measurement_model)\n\nfrom smartfusion.hypothesiser.distance import DistanceHypothesiser\nfrom smartfusion.measures import Mahalanobis\nhypothesiser = DistanceHypothesiser(predictor, updater, measure=Mahalanobis(), missed_distance=3)\n\nfrom smartfusion.dataassociator.neighbour import GNNWith2DAssignment\ndata_associator = GNNWith2DAssignment(hypothesiser)"
      ]
    },
    {
      "cell_type": "markdown",
      "metadata": {},
      "source": [
        "## Creating a Deleter\nHere we are going to create an error based deleter, which will delete any :class:`~.Track` where\ntrace of the covariance is over a certain threshold, i.e. when we have a high uncertainty. This\nsimply requires a threshold to be defined, which will depend on units and number of dimensions of\nyour state vector. So the higher the threshold value, the longer tracks that haven't been\nupdated will remain.\n\n"
      ]
    },
    {
      "cell_type": "code",
      "execution_count": null,
      "metadata": {
        "collapsed": false
      },
      "outputs": [],
      "source": [
        "from smartfusion.deleter.error import CovarianceBasedDeleter\ndeleter = CovarianceBasedDeleter(covar_trace_thresh=4)"
      ]
    },
    {
      "cell_type": "markdown",
      "metadata": {},
      "source": [
        "## Creating an Initiator\nHere we are going to use a measurement based initiator, which will create a track from the\nunassociated :class:`~.Detection` objects. A prior needs to be defined for the entire state\nbut elements of the state that are measured are replaced by state of the measurement, including\nthe measurement's uncertainty (noise covariance defined by the :class:`~.MeasurementModel`). In\nthis example, as our sensor measures position (as defined in measurement model\n:attr:`~.LinearGaussian.mapping` attribute earlier), we only need to modify the values for the\nvelocity and its variance.\n\nAs we are dealing with clutter, here we are going to be using a multi-measurement initiator. This\nrequires that multiple measurements are added to a track before being initiated. In this example,\nthis initiator effectively runs a mini version of the same tracker, but you could use different\ncomponents.\n\n"
      ]
    },
    {
      "cell_type": "code",
      "execution_count": null,
      "metadata": {
        "collapsed": false
      },
      "outputs": [],
      "source": [
        "from smartfusion.types.state import GaussianState\nfrom smartfusion.initiator.simple import MultiMeasurementInitiator\ninitiator = MultiMeasurementInitiator(\n    prior_state=GaussianState([[0], [0], [0], [0]], np.diag([0, 1, 0, 1])),\n    measurement_model=measurement_model,\n    deleter=deleter,\n    data_associator=data_associator,\n    updater=updater,\n    min_points=2,\n    )"
      ]
    },
    {
      "cell_type": "markdown",
      "metadata": {},
      "source": [
        "## Running the Tracker\nLoop through the predict, hypothesise, associate and update steps like before, but note on update\nwhich detections we've used at each time step. In each loop the deleter is called, returning\ntracks that are to be removed. Then the initiator is called with the unassociated detections, by\nremoving the associated detections from the full set. The order of the deletion and initiation is\nimportant, so tracks that have just been created, aren't deleted straight away. (The\nimplementation below is the same as :class:`~.MultiTargetTracker`)\n\n"
      ]
    },
    {
      "cell_type": "code",
      "execution_count": null,
      "metadata": {
        "collapsed": false
      },
      "outputs": [],
      "source": [
        "tracks, all_tracks = set(), set()\n\nfor n, measurements in enumerate(all_measurements):\n    # Calculate all hypothesis pairs and associate the elements in the best subset to the tracks.\n    hypotheses = data_associator.associate(tracks,\n                                           measurements,\n                                           start_time + timedelta(seconds=n))\n    associated_measurements = set()\n    for track in tracks:\n        hypothesis = hypotheses[track]\n        if hypothesis.measurement:\n            post = updater.update(hypothesis)\n            track.append(post)\n            associated_measurements.add(hypothesis.measurement)\n        else:  # When data associator says no detections are good enough, we'll keep the prediction\n            track.append(hypothesis.prediction)\n\n    # Carry out deletion and initiation\n    tracks -= deleter.delete_tracks(tracks)\n    tracks |= initiator.initiate(measurements - associated_measurements,\n                                 start_time + timedelta(seconds=n))\n    all_tracks |= tracks"
      ]
    },
    {
      "cell_type": "markdown",
      "metadata": {},
      "source": [
        "Plot the resulting tracks.\n\n"
      ]
    },
    {
      "cell_type": "code",
      "execution_count": null,
      "metadata": {
        "collapsed": false
      },
      "outputs": [],
      "source": [
        "plotter.plot_tracks(all_tracks, [0, 2], uncertainty=True)\nplotter.fig"
      ]
    }
  ],
  "metadata": {
    "kernelspec": {
      "display_name": "Python 3",
      "language": "python",
      "name": "python3"
    },
    "language_info": {
      "codemirror_mode": {
        "name": "ipython",
        "version": 3
      },
      "file_extension": ".py",
      "mimetype": "text/x-python",
      "name": "python",
      "nbconvert_exporter": "python",
      "pygments_lexer": "ipython3",
      "version": "3.9.12"
    }
  },
  "nbformat": 4,
  "nbformat_minor": 0
}