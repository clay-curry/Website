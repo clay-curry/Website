{
  "cells": [
    {
      "cell_type": "code",
      "execution_count": null,
      "metadata": {
        "collapsed": false
      },
      "outputs": [],
      "source": [
        "%matplotlib inline"
      ]
    },
    {
      "cell_type": "markdown",
      "metadata": {},
      "source": [
        "\n# Gromov Particle Flow Filter\nThis example looks at utilising the Generalized Gromov method for stochastic particle flow filters.\n"
      ]
    },
    {
      "cell_type": "markdown",
      "metadata": {},
      "source": [
        "## The Filter\n\nWe use the simple exact formula solution [#]_ to the equation:\n\n\\begin{align}\\frac{\\partial p}{\\partial \\lambda} =\n  -div(fp)+\\frac{1}{2}div\\left[Q(x)\\frac{\\partial p}{\\partial x}\\right]\\end{align}\n\nwhere $p(x, \u03bb)$ is the conditional probability density of $x$ as a function of\n$\u03bb\\in [0, 1]$, $f$ is the drift function and $Q$ is the diffusion covariance.\n\nUnder the assumption that the prior density and likelihood are both multivariate Gaussian\ndensities, and that $Q$ is a symmetric positive semi-definite matrix independent of\n$x$, we have the simple exact formula:\n\n\\begin{align}Q = [P^{-1}+\\lambda H^{T}R^{-1}H]^{-1}H^{T}R^{-1}H[P^{-1}+\\lambda H^{T}R^{-1}H]^{-1}\\end{align}\n\nwhere $Q$ can be guaranteed to be positive, semi-definite by taking\n\n\\begin{align}Q \\rightarrow \\frac{Q + Q^{T}}{2}\\end{align}\n\nUsing $Q$, we can generate random samples of the diffusion for use in the stochastic flow\nof particles.\n\n"
      ]
    },
    {
      "cell_type": "markdown",
      "metadata": {},
      "source": [
        "## Comparison\nComparing the bootstrap Smartfusion Particle filter, the Gromov particle flow filter, and the\nGromov particle flow filter with parallel EKF covariance computation ([#]_ using algorithm 2\nwith Gromov flow).\n\nTo note with particle flow, that resampling isn't required and lower numbers of particles are\nneeded, as it doesn't suffer the same issues of degeneracy as bootstrap particle filter.\n\n"
      ]
    },
    {
      "cell_type": "markdown",
      "metadata": {},
      "source": [
        "### One time-step\n\n"
      ]
    },
    {
      "cell_type": "code",
      "execution_count": null,
      "metadata": {
        "collapsed": false
      },
      "outputs": [],
      "source": [
        "import datetime\nimport numpy as np\nfrom scipy.stats import multivariate_normal\n\nfrom smartfusion.types.groundtruth import GroundTruthPath, GroundTruthState\nfrom smartfusion.models.measurement.nonlinear import CartesianToBearingRange\nfrom smartfusion.types.detection import Detection\nfrom smartfusion.predictor.particle import ParticlePredictor, ParticleFlowKalmanPredictor\nfrom smartfusion.models.transition.linear import CombinedLinearGaussianTransitionModel, \\\n    ConstantVelocity\nfrom smartfusion.updater.particle import ParticleUpdater, GromovFlowParticleUpdater, \\\n    GromovFlowKalmanParticleUpdater\nfrom smartfusion.types.particle import Particle\nfrom smartfusion.types.numeric import Probability\nfrom smartfusion.types.state import ParticleState\n\nnp.random.seed(2020)\n\nstart_time = datetime.datetime(2020, 1, 1)\ntruth = GroundTruthPath([\n    GroundTruthState([4, 4, 4, 4], timestamp=start_time + datetime.timedelta(seconds=1))\n])\n\nmeasurement_model = CartesianToBearingRange(\n    ndim_state=4,\n    mapping=(0, 2),\n    noise_covar=np.diag([np.radians(0.5), 1])\n)\nmeasurement = Detection(measurement_model.function(truth.state, noise=True),\n                        timestamp=truth.state.timestamp,\n                        measurement_model=measurement_model)\n\ntransition_model = CombinedLinearGaussianTransitionModel([ConstantVelocity(0.05),\n                                                          ConstantVelocity(0.05)])\n\np_predictor = ParticlePredictor(transition_model)\npfk_predictor = ParticleFlowKalmanPredictor(transition_model)  # By default, parallels EKF\npredictors = [p_predictor, p_predictor, pfk_predictor]\n\np_updater = ParticleUpdater(measurement_model)\nf_updater = GromovFlowParticleUpdater(measurement_model)\npfk_updater = GromovFlowKalmanParticleUpdater(measurement_model)  # By default, parallels EKF\nupdaters = [p_updater, f_updater, pfk_updater]\n\nnumber_particles = 1000\nsamples = multivariate_normal.rvs(np.array([0, 1, 0, 1]),\n                                  np.diag([1.5, 0.5, 1.5, 0.5]),\n                                  size=number_particles)\n# Note weights not used in particle flow, so value won't effect it.\nweight = Probability(1/number_particles)\nparticles = [\n    Particle(sample.reshape(-1, 1), weight=weight) for sample in samples]"
      ]
    },
    {
      "cell_type": "markdown",
      "metadata": {},
      "source": [
        "Run the filters\n\n"
      ]
    },
    {
      "cell_type": "code",
      "execution_count": null,
      "metadata": {
        "collapsed": false
      },
      "outputs": [],
      "source": [
        "from matplotlib import pyplot as plt\nfrom smartfusion.types.hypothesis import SingleHypothesis\n\nfig = plt.figure(figsize=(10, 6))\nax = fig.add_subplot(1, 1, 1)\nax.axis('equal')\n\nfilters = ['Particle', 'Particle Flow', 'Parallel EKF']\nparticle_counts = [1000, 50, 50]\ncolours = ['blue', 'green', 'red']\nhandles, labels = [], []\n\nfor predictor, updater, colour, filter, particle_count \\\n        in zip(predictors, updaters, colours, filters, particle_counts):\n    prior = ParticleState(None, particle_list=particles[:particle_count], timestamp=start_time)\n\n    prediction = predictor.predict(prior, timestamp=measurement.timestamp)\n    hypothesis = SingleHypothesis(prediction, measurement)\n    post = updater.update(hypothesis)\n\n    handles.append(ax.scatter(post.state_vector[0, :], post.state_vector[2, :], color=colour, s=2))\n\n    labels.append(filter)\n\nax.scatter(*truth.state_vector[[0, 2]], color='black')\nax.legend(handles=handles, labels=labels)"
      ]
    },
    {
      "cell_type": "markdown",
      "metadata": {},
      "source": [
        "### Multiple time-steps\n\n"
      ]
    },
    {
      "cell_type": "code",
      "execution_count": null,
      "metadata": {
        "collapsed": false
      },
      "outputs": [],
      "source": [
        "truth = GroundTruthPath([GroundTruthState([0, 1, 0, 1], timestamp=start_time)])\nfor k in range(1, 21):\n    truth.append(\n        GroundTruthState(transition_model.function(truth[k-1],\n                                                   noise=True,\n                                                   time_interval=datetime.timedelta(seconds=1)),\n                         timestamp=start_time+datetime.timedelta(seconds=k))\n    )\n\nmeasurements = []\nfor state in truth:\n    measurement = measurement_model.function(state, noise=True)\n    measurements.append(Detection(measurement, timestamp=state.timestamp,\n                                  measurement_model=measurement_model))\n\n\nnumber_particles = 1000\nsamples = multivariate_normal.rvs(np.array([0, 1, 0, 1]),\n                                  np.diag([1.5, 0.5, 1.5, 0.5]),\n                                  size=number_particles)\nweight = Probability(1/number_particles)\nparticles = [Particle(sample.reshape(-1, 1), weight=weight)\n             for sample in samples]"
      ]
    },
    {
      "cell_type": "code",
      "execution_count": null,
      "metadata": {
        "collapsed": false
      },
      "outputs": [],
      "source": [
        "from smartfusion.resampler.particle import SystematicResampler\nfrom smartfusion.types.track import Track\nfrom smartfusion.dataassociator.tracktotrack import TrackToTruth\nfrom smartfusion.metricgenerator.manager import SimpleManager\nfrom smartfusion.metricgenerator.tracktotruthmetrics import SIAPMetrics\nfrom smartfusion.plotter import Plotter\nfrom smartfusion.measures import Euclidean\n\nupdaters[0].resampler = SystematicResampler()  # Allow particle filter to re-sample\n\npa = dict()\nsiap_gen = SIAPMetrics(position_measure=Euclidean((0, 2)), velocity_measure=Euclidean((1, 3)))\n\nfor predictor, updater, colour, filter, particle_count \\\n        in zip(predictors, updaters, colours, filters, particle_counts):\n    track = Track()\n    prior = ParticleState(None, particle_list=particles[:particle_count], timestamp=start_time)\n\n    for measurement in measurements:\n        prediction = predictor.predict(prior, timestamp=measurement.timestamp)\n        hypothesis = SingleHypothesis(prediction, measurement)\n        post = updater.update(hypothesis)\n        track.append(post)\n        prior = track[-1]\n\n    plotter = Plotter()\n    plotter.plot_ground_truths(truth, [0, 2])\n    plotter.plot_measurements(measurements, [0, 2])\n    plotter.plot_tracks(track, [0, 2], particle=True, color=colour)\n    plotter.ax.set_title(filter)\n    plotter.ax.set_xlim(0, 30)\n    plotter.ax.set_ylim(0, 30)\n\n    metric_manager = SimpleManager(\n        [siap_gen], associator=TrackToTruth(association_threshold=np.inf))\n    metric_manager.add_data(tracks={track}, groundtruth_paths={truth})\n\n    metrics = metric_manager.generate_metrics()\n    pa[filter] = metrics.get(\"SIAP Position Accuracy at times\")"
      ]
    },
    {
      "cell_type": "markdown",
      "metadata": {},
      "source": [
        "### Positional Accuracy\n\n"
      ]
    },
    {
      "cell_type": "code",
      "execution_count": null,
      "metadata": {
        "collapsed": false
      },
      "outputs": [],
      "source": [
        "from matplotlib.lines import Line2D\n\nfig2 = plt.figure(figsize=(10, 6))\nax2 = fig2.add_subplot(1, 1, 1)\nax2.axis('equal')\n\nhandles = list()\nlabels = list()\n\nfor (filter, value), colour in zip(pa.items(), colours):\n    ax2.plot(range(len(value.value)), [elem.value for elem in value.value], color=colour)\n    handles.append(Line2D([], [], color=colour))\n    labels.append(filter)\nax2.legend(handles=handles, labels=labels)\nax2.set_ylim(0, 6)\n_ = ax2.set_title('Positional Accuracy')"
      ]
    },
    {
      "cell_type": "markdown",
      "metadata": {},
      "source": [
        "## References\n.. [#] Fred Daum, Jim Huang & Arjang Noushin 2017, Generalized Gromov method for stochastic\n       particle flow filters\n.. [#] Tao Ding and Mark J. Coates 2012, IMPLEMENTATION OF THE DAUM-HUANG EXACT-FLOW PARTICLE\n       FILTER\n\n"
      ]
    }
  ],
  "metadata": {
    "kernelspec": {
      "display_name": "Python 3",
      "language": "python",
      "name": "python3"
    },
    "language_info": {
      "codemirror_mode": {
        "name": "ipython",
        "version": 3
      },
      "file_extension": ".py",
      "mimetype": "text/x-python",
      "name": "python",
      "nbconvert_exporter": "python",
      "pygments_lexer": "ipython3",
      "version": "3.9.12"
    }
  },
  "nbformat": 4,
  "nbformat_minor": 0
}