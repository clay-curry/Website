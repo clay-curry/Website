{
  "cells": [
    {
      "cell_type": "code",
      "execution_count": null,
      "metadata": {
        "collapsed": false
      },
      "outputs": [],
      "source": [
        "%matplotlib inline"
      ]
    },
    {
      "cell_type": "markdown",
      "metadata": {},
      "source": [
        "\n# Classification Using Hidden Markov Model\nThis is a demonstration using the implemented forward algorithm in the context of a hidden Markov\nmodel to classify multiple targets.\n\nWe will attempt to classify 3 targets in an undefined region.\n"
      ]
    },
    {
      "cell_type": "markdown",
      "metadata": {},
      "source": [
        "All SMART FUSION imports will be given in order of usage.\n\n"
      ]
    },
    {
      "cell_type": "code",
      "execution_count": null,
      "metadata": {
        "collapsed": false
      },
      "outputs": [],
      "source": [
        "from datetime import datetime, timedelta\n\nimport numpy as np\n\nfrom smartfusion.models.transition.categorical import MarkovianTransitionModel\nfrom smartfusion.types.groundtruth import CategoricalGroundTruthState\nfrom smartfusion.types.groundtruth import GroundTruthPath"
      ]
    },
    {
      "cell_type": "markdown",
      "metadata": {},
      "source": [
        "## Ground Truth\nThe targets may take one of two discrete hidden classes: 'bike', and 'car'.\nA target may be able to transition from one class to another (this could be considered as a\nperson switching from riding a bike to driving a car and vice versa).\nThis behaviour will be modelled in the transition matrix of the\n:class:`~.MarkovianTransitionModel`. This transition matrix is a Markov process matrix, whereby\nit is assumed that the state of a target is wholly dependent on its previous state, and nothing\nelse.\n\nA :class:`~.CategoricalState` class is used to store information on the classification/category\nof the targets. The state vector will define a categorical distribution over the 2 possible\nclasses, whereby each component defines the probability that a target is of the corresponding\nclass. For example, the state vector (0.2, 0.8), with category names ('bike', 'car')\nindicates that a target has a 20% probability of being class 'bike' and an 80% probability of\nbeing class 'car' etc.\nIt does not make sense to have a true target being a distribution over the possible classes, and\ntherefore the true categorical states will have binary state vectors indicating a specific class\n(i.e. a '1' at one state vector index, and '0's elsewhere). This can be considered as stating\nthere is a 100% probability that the target is of a particular class. We specify that there\nshould be noise when functioning our transition model in order to sample the resultant\ndistribution and receive this binary vector.\nThe :class:`~.CategoricalGroundTruthState` class inherits directly from the base\n:class:`~.CategoricalState` class.\n\nThe category and timings for one of the ground truth paths will be printed.\n\n"
      ]
    },
    {
      "cell_type": "code",
      "execution_count": null,
      "metadata": {
        "collapsed": false
      },
      "outputs": [],
      "source": [
        "transition_matrix = np.array([[0.8, 0.2],  # P(bike | bike), P(bike | car)\n                              [0.4, 0.6]])  # P(car | bike), P(car | car)\ncategory_transition = MarkovianTransitionModel(transition_matrix=transition_matrix)\n\nstart = datetime.now()\n\nhidden_classes = ['bike', 'car']\n\n# Generating ground truth\nground_truths = list()\nfor i in range(1, 4):  # 4 targets\n    state_vector = np.zeros(2)  # create a vector with 2 zeroes\n    state_vector[np.random.choice(2, 1, p=[1 / 2, 1 / 2])] = 1  # pick a random class out of the 2\n    ground_truth_state = CategoricalGroundTruthState(state_vector,\n                                                     timestamp=start,\n                                                     categories=hidden_classes)\n\n    ground_truth = GroundTruthPath([ground_truth_state], id=f\"GT{i}\")\n\n    for _ in range(10):\n        new_vector = category_transition.function(ground_truth[-1],\n                                                  noise=True,\n                                                  time_interval=timedelta(seconds=1))\n        new_state = CategoricalGroundTruthState(\n            new_vector,\n            timestamp=ground_truth[-1].timestamp + timedelta(seconds=1),\n            categories=hidden_classes\n        )\n\n        ground_truth.append(new_state)\n    ground_truths.append(ground_truth)\n\nfor states in np.vstack(ground_truths).T:\n    print(f\"{states[0].timestamp:%H:%M:%S}\", end=\"\")\n    for state in states:\n        print(f\" -- {state.category}\", end=\"\")\n    print()"
      ]
    },
    {
      "cell_type": "markdown",
      "metadata": {},
      "source": [
        "## Measurement\nUsing a Hidden Markov model, it is assumed the true class of a target cannot be directly\nobserved (hence 'hidden'), and instead observations that are dependent on this class are taken.\nIn this instance, observations of the targets' sizes are taken ('small', 'medium' or 'large').\nThe relationship between true class and observed size is modelled by the `emission matrix` of the\n:class:`~.MarkovianMeasurementModel`, which is used by the :class:`~.HMMSensor` to\nprovide :class:`~.CategoricalDetection` types.\nWe will model this such that a 'bike' has a very small chance of being observed as a 'big'\ntarget etc.\n\n"
      ]
    },
    {
      "cell_type": "code",
      "execution_count": null,
      "metadata": {
        "collapsed": false
      },
      "outputs": [],
      "source": [
        "from smartfusion.models.measurement.categorical import MarkovianMeasurementModel\nfrom smartfusion.sensor.categorical import HMMSensor\n\nE = np.array([[0.8, 0.1],  # P(small | bike), P(small | car)\n              [0.19, 0.3],  # P(medium | bike), P(medium | car)\n              [0.01, 0.6]])  # P(large | bike), P(large | car)\n\nmodel = MarkovianMeasurementModel(emission_matrix=E,\n                                  measurement_categories=['small', 'medium', 'large'])\n\neo = HMMSensor(measurement_model=model)\n\n# Generating measurements\nmeasurements = list()\nfor index, states in enumerate(np.vstack(ground_truths).T):\n    if index == 5:\n        measurements_at_time = set()  # Give tracker chance to use prediction instead\n    else:\n        measurements_at_time = eo.measure(states)\n    timestamp = next(iter(states)).timestamp\n    measurements.append((timestamp, measurements_at_time))\n\n    print(f\"{timestamp:%H:%M:%S} -- {[meas.category for meas in measurements_at_time]}\")"
      ]
    },
    {
      "cell_type": "markdown",
      "metadata": {},
      "source": [
        "## Tracking Components\n\n"
      ]
    },
    {
      "cell_type": "markdown",
      "metadata": {},
      "source": [
        "### Predictor\nA :class:`~.HMMPredictor` specifically uses :class:`~.MarkovianTransitionModel` types to\npredict.\n\n"
      ]
    },
    {
      "cell_type": "code",
      "execution_count": null,
      "metadata": {
        "collapsed": false
      },
      "outputs": [],
      "source": [
        "from smartfusion.predictor.categorical import HMMPredictor\n\n# It would be cheating to use the same transition model as in ground truth generation!\ntransition_matrix = np.array([[0.81, 0.19],  # P(bike | bike), P(bike | car)\n                              [0.39, 0.61]])  # P(car | bike), P(car | car)\ncategory_transition = MarkovianTransitionModel(transition_matrix=transition_matrix)\n\npredictor = HMMPredictor(category_transition)"
      ]
    },
    {
      "cell_type": "markdown",
      "metadata": {},
      "source": [
        "### Updater\n\n"
      ]
    },
    {
      "cell_type": "code",
      "execution_count": null,
      "metadata": {
        "collapsed": false
      },
      "outputs": [],
      "source": [
        "from smartfusion.updater.categorical import HMMUpdater\n\nupdater = HMMUpdater()"
      ]
    },
    {
      "cell_type": "markdown",
      "metadata": {},
      "source": [
        "### Hypothesiser\nA :class:`~.HMMHypothesiser` is used for calculating categorical hypotheses.\nIt utilises the :class:`~.ObservationAccuracy` measure: a multi-dimensional extension of an\n'accuracy' score, essentially providing a measure of the similarity between two categorical\ndistributions.\n\n"
      ]
    },
    {
      "cell_type": "code",
      "execution_count": null,
      "metadata": {
        "collapsed": false
      },
      "outputs": [],
      "source": [
        "from smartfusion.hypothesiser.categorical import HMMHypothesiser\n\nhypothesiser = HMMHypothesiser(predictor=predictor, updater=updater)"
      ]
    },
    {
      "cell_type": "markdown",
      "metadata": {},
      "source": [
        "### Data Associator\nWe will use a standard :class:`~.GNNWith2DAssignment` data associator.\n\n"
      ]
    },
    {
      "cell_type": "code",
      "execution_count": null,
      "metadata": {
        "collapsed": false
      },
      "outputs": [],
      "source": [
        "from smartfusion.dataassociator.neighbour import GNNWith2DAssignment\n\ndata_associator = GNNWith2DAssignment(hypothesiser)"
      ]
    },
    {
      "cell_type": "markdown",
      "metadata": {},
      "source": [
        "### Prior\nAs we are tracking in a categorical state space, we should initiate with a categorical state for\nthe prior. Equal probability is given to all 3 of the possible hidden classes that a target\nmight take (the category names are also provided here).\n\n"
      ]
    },
    {
      "cell_type": "code",
      "execution_count": null,
      "metadata": {
        "collapsed": false
      },
      "outputs": [],
      "source": [
        "from smartfusion.types.state import CategoricalState\n\nprior = CategoricalState([1 / 2, 1 / 2], categories=hidden_classes)"
      ]
    },
    {
      "cell_type": "markdown",
      "metadata": {},
      "source": [
        "### Initiator\nFor each unassociated detection, a new track will be initiated. In this instance we use a\n:class:`~.SimpleCategoricalMeasurementInitiator`, which specifically handles categorical state\npriors.\n\n"
      ]
    },
    {
      "cell_type": "code",
      "execution_count": null,
      "metadata": {
        "collapsed": false
      },
      "outputs": [],
      "source": [
        "from smartfusion.initiator.categorical import SimpleCategoricalMeasurementInitiator\n\ninitiator = SimpleCategoricalMeasurementInitiator(prior_state=prior, updater=updater)"
      ]
    },
    {
      "cell_type": "markdown",
      "metadata": {},
      "source": [
        "### Deleter\nWe can use a standard :class:`~.UpdateTimeStepsDeleter`.\n\n"
      ]
    },
    {
      "cell_type": "code",
      "execution_count": null,
      "metadata": {
        "collapsed": false
      },
      "outputs": [],
      "source": [
        "from smartfusion.deleter.time import UpdateTimeStepsDeleter\n\ndeleter = UpdateTimeStepsDeleter(2)"
      ]
    },
    {
      "cell_type": "markdown",
      "metadata": {},
      "source": [
        "### Tracker\nWe can use a standard :class:`~.MultiTargetTracker`.\n\n"
      ]
    },
    {
      "cell_type": "code",
      "execution_count": null,
      "metadata": {
        "collapsed": false
      },
      "outputs": [],
      "source": [
        "from smartfusion.tracker.simple import MultiTargetTracker\n\ntracker = MultiTargetTracker(initiator, deleter, measurements, data_associator, updater)"
      ]
    },
    {
      "cell_type": "markdown",
      "metadata": {},
      "source": [
        "## Tracking\n\n"
      ]
    },
    {
      "cell_type": "code",
      "execution_count": null,
      "metadata": {
        "collapsed": false
      },
      "outputs": [],
      "source": [
        "tracks = set()\nfor time, ctracks in tracker:\n    tracks.update(ctracks)\n\nprint(f\"Number of tracks: {len(tracks)}\")\nfor track in tracks:\n    certainty = track.state_vector[np.argmax(track.state_vector)][0] * 100\n    print(f\"id: {track.id} -- category: {track.category} -- certainty: {certainty}%\")\n    for state in track:\n        _time = state.timestamp.strftime('%H:%M')\n        _type = str(type(state)).replace(\"class 'smartfusion.types.\", \"\").strip(\"<>'. \")\n        state_string = f\"{_time} -- {_type} -- {state.category}\"\n        try:\n            meas_string = f\"associated measurement: {state.hypothesis.measurement.category}\"\n        except AttributeError:\n            pass\n        else:\n            state_string += f\" -- {meas_string}\"\n        print(state_string)\n    print()"
      ]
    },
    {
      "cell_type": "markdown",
      "metadata": {},
      "source": [
        "## Metric\nDetermining tracking accuracy.\nIn calculating how many targets were classified correctly, only tracks with the highest\nclassification certainty are considered. In the situation where probabilities are equal, a\nrandom classification is chosen.\n\n"
      ]
    },
    {
      "cell_type": "code",
      "execution_count": null,
      "metadata": {
        "collapsed": false
      },
      "outputs": [],
      "source": [
        "excess_tracks = len(tracks) - len(ground_truths)  # target value = 0\nsorted_tracks = sorted(tracks,\n                       key=lambda track: track.state_vector[np.argmax(track.state_vector)][0],\n                       reverse=True)\nbest_tracks = sorted_tracks[:3]\ntrue_classifications = [ground_truth.category for ground_truth in ground_truths]\ntrack_classifications = [track.category for track in best_tracks]\n\nnum_correct_classifications = 0  # target value = num ground truths\nfor true_classification in true_classifications:\n    for i in range(len(track_classifications)):\n        if track_classifications[i] == true_classification:\n            num_correct_classifications += 1\n            del track_classifications[i]\n            break\n\nprint(f\"Excess tracks: {excess_tracks}\")\nprint(f\"No. correct classifications: {num_correct_classifications}\")"
      ]
    },
    {
      "cell_type": "markdown",
      "metadata": {},
      "source": [
        "## Plotting\nPlotting the probability that each one of our targets and tracks is a 'bike' will help to\nvisualise this 2-hidden class problem.\n\nDotted lines indicate ground truth probabilities, and solid lines for tracks.\n\n"
      ]
    },
    {
      "cell_type": "code",
      "execution_count": null,
      "metadata": {
        "collapsed": false
      },
      "outputs": [],
      "source": [
        "import matplotlib.pyplot as plt\n\n\ndef plot(path, style):\n    times = list()\n    probs = list()\n    for state in path:\n        times.append(state.timestamp)\n        probs.append(state.state_vector[0])\n    plt.plot(times, probs, linestyle=style)\n\n\nfor truth in ground_truths:\n    plot(truth, '--')\nfor track in tracks:\n    plot(track, '-')"
      ]
    }
  ],
  "metadata": {
    "kernelspec": {
      "display_name": "Python 3",
      "language": "python",
      "name": "python3"
    },
    "language_info": {
      "codemirror_mode": {
        "name": "ipython",
        "version": 3
      },
      "file_extension": ".py",
      "mimetype": "text/x-python",
      "name": "python",
      "nbconvert_exporter": "python",
      "pygments_lexer": "ipython3",
      "version": "3.9.12"
    }
  },
  "nbformat": 4,
  "nbformat_minor": 0
}