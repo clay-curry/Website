{
  "cells": [
    {
      "cell_type": "code",
      "execution_count": null,
      "metadata": {
        "collapsed": false
      },
      "outputs": [],
      "source": [
        "%matplotlib inline"
      ]
    },
    {
      "cell_type": "markdown",
      "metadata": {},
      "source": [
        "\n# UAV Tracking Demonstration\n"
      ]
    },
    {
      "cell_type": "markdown",
      "metadata": {},
      "source": [
        "## Overview\nStarting with GPS data from an instrumented UAV, we will generate range, bearing, and\nelevation measurements (from a given radar position). We will use SMART FUSION's simple\n:class:`~.SingleTargetTracker` to perform the tracking. At this point we are primarily interested\nin the necessary motion models that may be needed so the example is fairly simple, but\nwe want to be able to easily expand the simulation to handle more complex scenarios.\n\nItems to note:\n\n- Assumes a single target track, which simplifies track management.\n- There is no clutter, and no missed detections. So 1:1 Data Association.\n- Need an initiator and deleter for the tracker.\n- GPS updates are 1 sec., we assume radar revisit is the same (little unrealistic)\n\nWe are assuming a ground based radar:\n\n- Radar has course elevation resolution and fine bearing resolution.\n- Use range standard deviation of 3.14 m as a replacement for range resolution.\n\n"
      ]
    },
    {
      "cell_type": "markdown",
      "metadata": {},
      "source": [
        "## Setup: transition model, measurement model, updater and predictor\n\n"
      ]
    },
    {
      "cell_type": "code",
      "execution_count": null,
      "metadata": {
        "collapsed": false
      },
      "outputs": [],
      "source": [
        "import numpy as np\nfrom smartfusion.models.transition.linear import (\n    ConstantVelocity,\n    CombinedLinearGaussianTransitionModel\n    )\nfrom smartfusion.predictor.kalman import ExtendedKalmanPredictor\nfrom smartfusion.updater.kalman import ExtendedKalmanUpdater\nfrom smartfusion.models.measurement.nonlinear import (\n    CartesianToElevationBearingRange\n    )\nfrom smartfusion.types.array import CovarianceMatrix\n\n\ntransition_model = CombinedLinearGaussianTransitionModel(\n    [ConstantVelocity(1.0),\n     ConstantVelocity(1.0),\n     ConstantVelocity(1.0)])\n\n# Model coords = elev, bearing, range. Angles in radians\nmeas_covar = np.diag([np.radians(np.sqrt(10.0))**2,\n                      np.radians(0.6)**2,\n                      3.14**2])\n\nmeas_covar_trk = CovarianceMatrix(1.0*meas_covar)\nmeas_model = CartesianToElevationBearingRange(\n            ndim_state=6,\n            mapping=np.array([0, 2, 4]),\n            noise_covar=meas_covar_trk)\npredictor = ExtendedKalmanPredictor(transition_model)\nupdater = ExtendedKalmanUpdater(measurement_model=meas_model)"
      ]
    },
    {
      "cell_type": "markdown",
      "metadata": {},
      "source": [
        "## Setup CSV reader & feeder\nSetup the reader and feeder to read the GPS data in\n:download:`CSV file <../../demos/UAV_Rot.csv>`.\nThis part uses 2 SMART FUSION detector type of classes:\n\n- :class:`~.CSVGroundTruthReader` - reads our CSV file which contains: timestamp,\n  latitude, longitude, altitude and other miscellaneous data.\n- :class:`~.LLAtoENUConverter` - this is a feeder, but it converts our lat, long, \n  alt data into Cartesian (ENU).\n\nThe Cartesian(ENU) data will be converted to Range, Bearing, Altitude later on.\nA more involved detector could:\n\n- Add clutter.\n- Handle $P_d$ behaviour. It could be based on radial velocity or other\n  parameters.\n- Handle radar revisit times.\n- Add unknown number & multiple targets.\n\n\n"
      ]
    },
    {
      "cell_type": "code",
      "execution_count": null,
      "metadata": {
        "collapsed": false
      },
      "outputs": [],
      "source": [
        "from smartfusion.reader.generic import CSVGroundTruthReader\n\nground_truth_reader = CSVGroundTruthReader(\n    path='UAV_Rot.csv',\n    state_vector_fields=['longitude', 'Vx m/s', 'latitude', 'Vy m/s', 'altitude (m)'],\n    time_field='time',\n    path_id_field='groupNb',\n)\n\nfrom smartfusion.feeder.geo import LLAtoENUConverter\nsensor_location = [-30.948, 50.297311666, 0]  # Radar position [long, lat, alt]\nground_truth_reader = LLAtoENUConverter(ground_truth_reader, sensor_location, [0, 2, 4])"
      ]
    },
    {
      "cell_type": "markdown",
      "metadata": {},
      "source": [
        "## Define Sensor, Platform and Detector\nThe sensor converts the Cartesian coordinates into range, bearing and elevation.\nThe sensor is then mounted onto a platform (stationary in this case)\n\n"
      ]
    },
    {
      "cell_type": "code",
      "execution_count": null,
      "metadata": {
        "collapsed": false
      },
      "outputs": [],
      "source": [
        "from smartfusion.platform.base import FixedPlatform\nfrom smartfusion.sensor.radar.radar import RadarElevationBearingRange\nfrom smartfusion.simulator.platform import PlatformDetectionSimulator\nfrom smartfusion.types.state import State\n\nsensor = RadarElevationBearingRange(\n    position_mapping=[0, 2, 4],\n    noise_covar=meas_covar,\n    ndim_state=6,\n)\nplatform = FixedPlatform(\n    State([0, 0, 0, 0, 0, 0]),  # Sensor at reference point, zero velocity\n    position_mapping=[0, 2, 4],\n    sensors=[sensor]\n)\n\n# Create the detector and initialize it.\ndetector = PlatformDetectionSimulator(ground_truth_reader, [platform])"
      ]
    },
    {
      "cell_type": "markdown",
      "metadata": {},
      "source": [
        "## Setup Initiator class for the Tracker\nThis is just an heuristic initiation:\nAssume most of the deviation is caused by the Bearing measurement error.\nThis is then converted into x, y components using the target bearing. For the\ndeviation in z,\nwe simply use $R\\times\\sigma_{elev}$ (ignore any bearing and range \ndeviation components). Velocity covariances are simply based on the expected\nvelocity range of the targets.\n\n**NOTE** - The Extended Kalman filter can be very sensitive to the state\ninitiation. Using the default :class:`~.SimpleMeasurementInitiator`, the estimates\ntended to diverge over the course of the track when larger bearing measurement\ncovariances were used.\n\n"
      ]
    },
    {
      "cell_type": "code",
      "execution_count": null,
      "metadata": {
        "collapsed": false
      },
      "outputs": [],
      "source": [
        "from smartfusion.types.state import GaussianState, State\nfrom smartfusion.types.update import GaussianStateUpdate\nfrom smartfusion.initiator.simple import SimpleMeasurementInitiator\nfrom smartfusion.types.track import Track\nfrom smartfusion.types.hypothesis import SingleHypothesis\n\n\nclass Initiator(SimpleMeasurementInitiator):\n    def initiate(self, detections, timestamp, **kwargs):\n        MAX_DEV = 400.\n        tracks = set()\n        measurement_model = self.measurement_model\n        for detection in detections:\n            state_vector = measurement_model.inverse_function(\n                            detection)\n            model_covar = measurement_model.covar()\n\n            el_az_range = np.sqrt(np.diag(model_covar)) #elev, az, range\n\n            std_pos = detection.state_vector[2, 0]*el_az_range[1]\n            stdx = np.abs(std_pos*np.sin(el_az_range[1]))\n            stdy = np.abs(std_pos*np.cos(el_az_range[1]))\n            stdz = np.abs(detection.state_vector[2, 0]*el_az_range[0])\n            if stdx > MAX_DEV:\n                print('Warning - X Deviation exceeds limit!!')\n            if stdy > MAX_DEV:\n                print('Warning - Y Deviation exceeds limit!!')  \n            if stdz > MAX_DEV:\n                print('Warning - Z Deviation exceeds limit!!')\n            C0 = np.diag(np.array([stdx, 30.0, stdy, 30.0, stdz, 30.0])**2)\n\n            tracks.add(Track([GaussianStateUpdate(\n                state_vector,\n                C0,\n                SingleHypothesis(None, detection),\n                timestamp=detection.timestamp)\n            ]))\n        return tracks\n\n\nprior_state = GaussianState(\n        np.array([[0], [0], [0], [0], [0], [0]]),\n        np.diag([0, 30.0, 0, 30.0, 0, 30.0])**2)\ninitiator = Initiator(prior_state, meas_model)\n#initiator = SimpleMeasurementInitiator(prior_state, meas_model)"
      ]
    },
    {
      "cell_type": "markdown",
      "metadata": {},
      "source": [
        "## Setup Deleter for the Tracker\nIn the simple case of 1 target, we never want to delete the track. Because\nthis Deleter is so simple we haven't bothered using a subtype/inheritance\nand instead make use of Python's duck typing. \n\n"
      ]
    },
    {
      "cell_type": "code",
      "execution_count": null,
      "metadata": {
        "collapsed": false
      },
      "outputs": [],
      "source": [
        "class MyDeleter:\n    def delete_tracks(self, tracks):\n        return set()\n\ndeleter = MyDeleter()"
      ]
    },
    {
      "cell_type": "markdown",
      "metadata": {},
      "source": [
        "## Setup Hypothesiser and Associator\nSince we know there is only one measurement per scan, we can just use the\n:class:`~.NearestNeighbour` associator to achieve our desired result.\n\n"
      ]
    },
    {
      "cell_type": "code",
      "execution_count": null,
      "metadata": {
        "collapsed": false
      },
      "outputs": [],
      "source": [
        "from smartfusion.measures import Euclidean\nfrom smartfusion.dataassociator.neighbour import NearestNeighbour\nfrom smartfusion.hypothesiser.distance import DistanceHypothesiser\nfrom smartfusion.tracker.simple import SingleTargetTracker\nmeas = Euclidean()\nhypothesiser = DistanceHypothesiser(predictor, updater, meas)\nassociator = NearestNeighbour(hypothesiser)\n\n\ntracker = SingleTargetTracker(initiator,\n                              deleter,\n                              detector,\n                              associator,\n                              updater)"
      ]
    },
    {
      "cell_type": "markdown",
      "metadata": {},
      "source": [
        "## Run the Tracker\nWe extract the ground truth from the detector and then run the tracker.\nWhile running the tracker we:\n\n- Extract the measurement that is associated with it.\n- Extract the position components of the estimated state vector.\n\nThis allows us to plot the measurements, ground truth, and state estimates.\n\n**Note:** The meas_model.inverse_function() returns a state vector, which\nfor our CV model consists of [x, vx, y, vy, z, vz].\n\n"
      ]
    },
    {
      "cell_type": "code",
      "execution_count": null,
      "metadata": {
        "collapsed": false
      },
      "outputs": [],
      "source": [
        "from matplotlib import pyplot as plt\nest_X=[]\nest_Y=[]\nmeas_X=[]\nmeas_Y=[]\ntrue_X = []\ntrue_Y = []\nfor time, tracks in tracker:\n    for ground_truth in ground_truth_reader.groundtruth_paths:\n        true_X.append(ground_truth.state_vector[0])\n        true_Y.append(ground_truth.state_vector[2])\n\n    # Because this is a single target tracker, I know there is only 1 track.\n    for track in tracks:\n\n        #Get the corresponding measurement\n        detection = track.states[-1].hypothesis.measurement\n        # Convert measurement into xy\n        xyz = meas_model.inverse_function(detection)\n        meas_X.append(xyz[0])\n        meas_Y.append(xyz[2])\n\n        vec = track.states[-1].state_vector\n        est_X.append(vec[0])\n        est_Y.append(vec[2])\n\nfig = plt.figure(figsize=(10, 6))\nax1 = fig.add_subplot(1, 1, 1)\nplt.plot(meas_X, meas_Y, 'xb', label='Measurements')\nax1.plot(true_X, true_Y, 'd-k', label='Truth', markerfacecolor='None')\nax1.legend()\nax1.set_xlabel('X (m)')\nax1.set_ylabel('Y (m)')\n\nfig = plt.figure(figsize=(10, 6))\nax2 = fig.add_subplot(1, 1, 1)\nax2.plot(true_X, true_Y, 'd-k', label='Truth', markerfacecolor='None')\nax2.plot(est_X, est_Y, 'r.', label='Estimates')\nax2.set_xlabel('X (m)')\nax2.set_ylabel('Y (m)')\nax2.legend()"
      ]
    },
    {
      "cell_type": "markdown",
      "metadata": {},
      "source": [
        "## To Investigate\nWhat happens when:\n\n- Increase the bearing standard deviation?\n- Increase the model process noise?\n- Move the radar?\n\n\n"
      ]
    }
  ],
  "metadata": {
    "kernelspec": {
      "display_name": "Python 3",
      "language": "python",
      "name": "python3"
    },
    "language_info": {
      "codemirror_mode": {
        "name": "ipython",
        "version": 3
      },
      "file_extension": ".py",
      "mimetype": "text/x-python",
      "name": "python",
      "nbconvert_exporter": "python",
      "pygments_lexer": "ipython3",
      "version": "3.9.12"
    }
  },
  "nbformat": 4,
  "nbformat_minor": 0
}